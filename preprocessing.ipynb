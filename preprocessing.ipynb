{
 "cells": [
  {
   "cell_type": "markdown",
   "metadata": {},
   "source": [
    "# Importing the libraries"
   ]
  },
  {
   "cell_type": "code",
   "execution_count": 164,
   "metadata": {},
   "outputs": [],
   "source": [
    "import pandas as pd\n",
    "import numpy as np\n",
    "import spotipy\n",
    "from spotipy.oauth2 import SpotifyClientCredentials\n",
    "import yaml\n",
    "from tqdm import tqdm\n",
    "import time\n",
    "import random\n",
    "import datetime\n",
    "\n",
    "from sklearn.feature_extraction.text import TfidfVectorizer\n",
    "from sklearn.metrics.pairwise import cosine_similarity\n",
    "from sklearn.preprocessing import MinMaxScaler\n",
    "import matplotlib.pyplot as plt"
   ]
  },
  {
   "cell_type": "code",
   "execution_count": 165,
   "metadata": {},
   "outputs": [],
   "source": [
    "stream= open(\"spotify/spotify.yaml\")\n",
    "spotify_details = yaml.safe_load(stream)\n",
    "auth_manager = SpotifyClientCredentials(client_id=spotify_details['Client_id'],\n",
    "                                        client_secret=spotify_details['client_secret'])\n",
    "sp = spotipy.client.Spotify(auth_manager=auth_manager)"
   ]
  },
  {
   "cell_type": "markdown",
   "metadata": {},
   "source": [
    "# Importing the dataset"
   ]
  },
  {
   "cell_type": "code",
   "execution_count": 166,
   "metadata": {},
   "outputs": [],
   "source": [
    "df=pd.read_csv('data/unique_tracks_mpd_drop.csv')\n",
    "artist_features=pd.read_csv('data/artist_features.csv')\n",
    "audio_features=pd.read_csv('data/audio_features.csv')\n"
   ]
  },
  {
   "cell_type": "code",
   "execution_count": 167,
   "metadata": {},
   "outputs": [],
   "source": [
    "track_features=pd.read_csv('data/track_features.csv')"
   ]
  },
  {
   "cell_type": "code",
   "execution_count": 168,
   "metadata": {},
   "outputs": [
    {
     "name": "stdout",
     "output_type": "stream",
     "text": [
      "   Unnamed: 0               track_uri              artist_uri  \\\n",
      "0           0  0UaMYEvWZi0ZqiDOoHU3YI  2wIVse2owClT7go1WT98tk   \n",
      "1           1  6I9VzXrHxO9rA9A5euc8Ak  26dSoYclwsYLMAKD3tpOr4   \n",
      "2           2  0WqIKmW4BTrj3eJFmnCKMv  6vWDO969PvNqNYHIOW5v0m   \n",
      "3           3  1AWQoqb9bSvzTjaLralEkT  31TPClRtHm23RisEBtV3X7   \n",
      "4           4  1lzr43nnXAijIGYnCT8M8H  5EvFsr3kj42KNv97ZEnqij   \n",
      "\n",
      "                album_uri  \n",
      "0  6vV5UrXcfyQD1wu4Qo2I9K  \n",
      "1  0z7pVBGOD7HCIB7S8eLkLI  \n",
      "2  25hVFAxTlDvXbx2X2QkUkE  \n",
      "3  6QPkyl04rXwTGlGlcYaRoW  \n",
      "4  6NmFmPX56pcLBOFMhIiKvF  \n",
      "Unnamed: 0    337684\n",
      "track_uri     337684\n",
      "artist_uri    337684\n",
      "album_uri     337684\n",
      "dtype: int64\n"
     ]
    }
   ],
   "source": [
    "print(df.head())\n",
    "print(df.count())"
   ]
  },
  {
   "cell_type": "code",
   "execution_count": 169,
   "metadata": {},
   "outputs": [
    {
     "name": "stdout",
     "output_type": "stream",
     "text": [
      "Index(['0', 'artist_pop', 'genres'], dtype='object')\n",
      "0             62633\n",
      "artist_pop    62633\n",
      "genres        62633\n",
      "dtype: int64\n"
     ]
    },
    {
     "data": {
      "text/html": [
       "<div>\n",
       "<style scoped>\n",
       "    .dataframe tbody tr th:only-of-type {\n",
       "        vertical-align: middle;\n",
       "    }\n",
       "\n",
       "    .dataframe tbody tr th {\n",
       "        vertical-align: top;\n",
       "    }\n",
       "\n",
       "    .dataframe thead th {\n",
       "        text-align: right;\n",
       "    }\n",
       "</style>\n",
       "<table border=\"1\" class=\"dataframe\">\n",
       "  <thead>\n",
       "    <tr style=\"text-align: right;\">\n",
       "      <th></th>\n",
       "      <th>0</th>\n",
       "      <th>artist_pop</th>\n",
       "      <th>genres</th>\n",
       "    </tr>\n",
       "  </thead>\n",
       "  <tbody>\n",
       "    <tr>\n",
       "      <th>0</th>\n",
       "      <td>2wIVse2owClT7go1WT98tk</td>\n",
       "      <td>70</td>\n",
       "      <td>dance_pop hip_hop hip_pop neo_soul pop_rap r&amp;b...</td>\n",
       "    </tr>\n",
       "    <tr>\n",
       "      <th>1</th>\n",
       "      <td>26dSoYclwsYLMAKD3tpOr4</td>\n",
       "      <td>80</td>\n",
       "      <td>dance_pop pop</td>\n",
       "    </tr>\n",
       "    <tr>\n",
       "      <th>2</th>\n",
       "      <td>6vWDO969PvNqNYHIOW5v0m</td>\n",
       "      <td>86</td>\n",
       "      <td>pop r&amp;b</td>\n",
       "    </tr>\n",
       "    <tr>\n",
       "      <th>3</th>\n",
       "      <td>31TPClRtHm23RisEBtV3X7</td>\n",
       "      <td>82</td>\n",
       "      <td>dance_pop pop</td>\n",
       "    </tr>\n",
       "    <tr>\n",
       "      <th>4</th>\n",
       "      <td>5EvFsr3kj42KNv97ZEnqij</td>\n",
       "      <td>71</td>\n",
       "      <td>pop_rap reggae_fusion</td>\n",
       "    </tr>\n",
       "  </tbody>\n",
       "</table>\n",
       "</div>"
      ],
      "text/plain": [
       "                        0  artist_pop  \\\n",
       "0  2wIVse2owClT7go1WT98tk          70   \n",
       "1  26dSoYclwsYLMAKD3tpOr4          80   \n",
       "2  6vWDO969PvNqNYHIOW5v0m          86   \n",
       "3  31TPClRtHm23RisEBtV3X7          82   \n",
       "4  5EvFsr3kj42KNv97ZEnqij          71   \n",
       "\n",
       "                                              genres  \n",
       "0  dance_pop hip_hop hip_pop neo_soul pop_rap r&b...  \n",
       "1                                      dance_pop pop  \n",
       "2                                            pop r&b  \n",
       "3                                      dance_pop pop  \n",
       "4                              pop_rap reggae_fusion  "
      ]
     },
     "execution_count": 169,
     "metadata": {},
     "output_type": "execute_result"
    }
   ],
   "source": [
    "# print(artist_features.head())\n",
    "print(artist_features.columns)\n",
    "print(artist_features.count())\n",
    "artist_features.head()\n"
   ]
  },
  {
   "cell_type": "code",
   "execution_count": 170,
   "metadata": {},
   "outputs": [
    {
     "name": "stdout",
     "output_type": "stream",
     "text": [
      "   danceability  energy  key  loudness  mode  speechiness  acousticness  \\\n",
      "0         0.904   0.813    4    -7.105     0       0.1210       0.03110   \n",
      "1         0.774   0.838    5    -3.914     0       0.1140       0.02490   \n",
      "2         0.664   0.758    2    -6.583     0       0.2100       0.00238   \n",
      "3         0.892   0.714    4    -6.055     0       0.1410       0.20100   \n",
      "4         0.853   0.606    0    -4.596     1       0.0713       0.05610   \n",
      "\n",
      "   instrumentalness  liveness  valence    tempo            type  \\\n",
      "0          0.006970    0.0471    0.810  125.461  audio_features   \n",
      "1          0.025000    0.2420    0.924  143.040  audio_features   \n",
      "2          0.000000    0.0598    0.701   99.259  audio_features   \n",
      "3          0.000234    0.0521    0.817  100.972  audio_features   \n",
      "4          0.000000    0.3130    0.654   94.759  audio_features   \n",
      "\n",
      "                       id                                   uri  \\\n",
      "0  0UaMYEvWZi0ZqiDOoHU3YI  spotify:track:0UaMYEvWZi0ZqiDOoHU3YI   \n",
      "1  6I9VzXrHxO9rA9A5euc8Ak  spotify:track:6I9VzXrHxO9rA9A5euc8Ak   \n",
      "2  0WqIKmW4BTrj3eJFmnCKMv  spotify:track:0WqIKmW4BTrj3eJFmnCKMv   \n",
      "3  1AWQoqb9bSvzTjaLralEkT  spotify:track:1AWQoqb9bSvzTjaLralEkT   \n",
      "4  1lzr43nnXAijIGYnCT8M8H  spotify:track:1lzr43nnXAijIGYnCT8M8H   \n",
      "\n",
      "                                          track_href  \\\n",
      "0  https://api.spotify.com/v1/tracks/0UaMYEvWZi0Z...   \n",
      "1  https://api.spotify.com/v1/tracks/6I9VzXrHxO9r...   \n",
      "2  https://api.spotify.com/v1/tracks/0WqIKmW4BTrj...   \n",
      "3  https://api.spotify.com/v1/tracks/1AWQoqb9bSvz...   \n",
      "4  https://api.spotify.com/v1/tracks/1lzr43nnXAij...   \n",
      "\n",
      "                                        analysis_url  duration_ms  \\\n",
      "0  https://api.spotify.com/v1/audio-analysis/0UaM...       226864   \n",
      "1  https://api.spotify.com/v1/audio-analysis/6I9V...       198800   \n",
      "2  https://api.spotify.com/v1/audio-analysis/0WqI...       235933   \n",
      "3  https://api.spotify.com/v1/audio-analysis/1AWQ...       267267   \n",
      "4  https://api.spotify.com/v1/audio-analysis/1lzr...       227600   \n",
      "\n",
      "   time_signature  \n",
      "0               4  \n",
      "1               4  \n",
      "2               4  \n",
      "3               4  \n",
      "4               4  \n",
      "danceability        199200\n",
      "energy              199200\n",
      "key                 199200\n",
      "loudness            199200\n",
      "mode                199200\n",
      "speechiness         199200\n",
      "acousticness        199200\n",
      "instrumentalness    199200\n",
      "liveness            199200\n",
      "valence             199200\n",
      "tempo               199200\n",
      "type                199200\n",
      "id                  199200\n",
      "uri                 199200\n",
      "track_href          199200\n",
      "analysis_url        199200\n",
      "duration_ms         199200\n",
      "time_signature      199200\n",
      "dtype: int64\n"
     ]
    }
   ],
   "source": [
    "print(audio_features.head())\n",
    "print(audio_features.count())"
   ]
  },
  {
   "cell_type": "code",
   "execution_count": 171,
   "metadata": {},
   "outputs": [
    {
     "name": "stdout",
     "output_type": "stream",
     "text": [
      "                track_uri release_date pop\n",
      "0  0UaMYEvWZi0ZqiDOoHU3YI   2005-07-04  70\n",
      "1  6I9VzXrHxO9rA9A5euc8Ak   2003-11-13  86\n",
      "2  0WqIKmW4BTrj3eJFmnCKMv   2003-06-23  21\n",
      "3  1AWQoqb9bSvzTjaLralEkT   2002-11-04  83\n",
      "4  1lzr43nnXAijIGYnCT8M8H         2000   4\n",
      "track_uri       199480\n",
      "release_date    199480\n",
      "pop             199480\n",
      "dtype: int64\n"
     ]
    }
   ],
   "source": [
    "print(track_features.head())\n",
    "print(track_features.count())"
   ]
  },
  {
   "cell_type": "markdown",
   "metadata": {},
   "source": [
    "# Merging all dataframes"
   ]
  },
  {
   "cell_type": "code",
   "execution_count": 172,
   "metadata": {},
   "outputs": [],
   "source": [
    "df_main = pd.merge(df,audio_features, left_on = \"track_uri\", right_on= \"id\",how = 'inner')"
   ]
  },
  {
   "cell_type": "code",
   "execution_count": 173,
   "metadata": {},
   "outputs": [],
   "source": [
    "df_main = pd.merge(df_main,track_features, left_on = \"track_uri\", right_on= \"track_uri\",how = 'outer')"
   ]
  },
  {
   "cell_type": "code",
   "execution_count": 174,
   "metadata": {},
   "outputs": [],
   "source": [
    "df_main = pd.merge(df_main,artist_features, left_on = \"artist_uri\", right_on= \"0\",how = 'inner')"
   ]
  },
  {
   "cell_type": "markdown",
   "metadata": {},
   "source": [
    "# Handling missing data "
   ]
  },
  {
   "cell_type": "code",
   "execution_count": 175,
   "metadata": {},
   "outputs": [
    {
     "data": {
      "text/plain": [
       "Unnamed: 0            0\n",
       "track_uri             0\n",
       "artist_uri            0\n",
       "album_uri             0\n",
       "danceability          0\n",
       "energy                0\n",
       "key                   0\n",
       "loudness              0\n",
       "mode                  0\n",
       "speechiness           0\n",
       "acousticness          0\n",
       "instrumentalness      0\n",
       "liveness              0\n",
       "valence               0\n",
       "tempo                 0\n",
       "type                  0\n",
       "id                    0\n",
       "uri                   0\n",
       "track_href            0\n",
       "analysis_url          0\n",
       "duration_ms           0\n",
       "time_signature        0\n",
       "release_date        521\n",
       "pop                 521\n",
       "0                     0\n",
       "artist_pop            0\n",
       "genres                0\n",
       "dtype: int64"
      ]
     },
     "execution_count": 175,
     "metadata": {},
     "output_type": "execute_result"
    }
   ],
   "source": [
    "df_main.isna().sum()"
   ]
  },
  {
   "cell_type": "markdown",
   "metadata": {},
   "source": [
    "# Droping missing values"
   ]
  },
  {
   "cell_type": "code",
   "execution_count": 176,
   "metadata": {},
   "outputs": [],
   "source": [
    "df_main.dropna(axis=0,inplace=True)"
   ]
  },
  {
   "cell_type": "code",
   "execution_count": 177,
   "metadata": {},
   "outputs": [
    {
     "data": {
      "text/plain": [
       "0"
      ]
     },
     "execution_count": 177,
     "metadata": {},
     "output_type": "execute_result"
    }
   ],
   "source": [
    "df_main.isna().sum().sum()"
   ]
  },
  {
   "cell_type": "code",
   "execution_count": 178,
   "metadata": {},
   "outputs": [
    {
     "data": {
      "text/plain": [
       "Unnamed: 0          198492\n",
       "track_uri           198492\n",
       "artist_uri          198492\n",
       "album_uri           198492\n",
       "danceability        198492\n",
       "energy              198492\n",
       "key                 198492\n",
       "loudness            198492\n",
       "mode                198492\n",
       "speechiness         198492\n",
       "acousticness        198492\n",
       "instrumentalness    198492\n",
       "liveness            198492\n",
       "valence             198492\n",
       "tempo               198492\n",
       "type                198492\n",
       "id                  198492\n",
       "uri                 198492\n",
       "track_href          198492\n",
       "analysis_url        198492\n",
       "duration_ms         198492\n",
       "time_signature      198492\n",
       "release_date        198492\n",
       "pop                 198492\n",
       "0                   198492\n",
       "artist_pop          198492\n",
       "genres              198492\n",
       "dtype: int64"
      ]
     },
     "execution_count": 178,
     "metadata": {},
     "output_type": "execute_result"
    }
   ],
   "source": [
    "df_main.count()"
   ]
  },
  {
   "cell_type": "code",
   "execution_count": 179,
   "metadata": {},
   "outputs": [
    {
     "data": {
      "text/plain": [
       "Unnamed: 0  track_uri               artist_uri              album_uri               danceability  energy  key   loudness  mode  speechiness  acousticness  instrumentalness  liveness  valence  tempo    type            id                      uri                                   track_href                                                analysis_url                                                      duration_ms  time_signature  release_date  pop  0                       artist_pop  genres                                                                                \n",
       "0.0         0UaMYEvWZi0ZqiDOoHU3YI  2wIVse2owClT7go1WT98tk  6vV5UrXcfyQD1wu4Qo2I9K  0.904         0.813   4.0   -7.105    0.0   0.1210       0.031100      0.006970          0.0471    0.810    125.461  audio_features  0UaMYEvWZi0ZqiDOoHU3YI  spotify:track:0UaMYEvWZi0ZqiDOoHU3YI  https://api.spotify.com/v1/tracks/0UaMYEvWZi0ZqiDOoHU3YI  https://api.spotify.com/v1/audio-analysis/0UaMYEvWZi0ZqiDOoHU3YI  226864.0     4.0             2005-07-04    70   2wIVse2owClT7go1WT98tk  70          dance_pop hip_hop hip_pop neo_soul pop_rap r&b rap urban_contemporary virginia_hip_hop    1\n",
       "456434.0    2PRjJbHwkAvmTv8h4v18Kr  4OkeTQCk0fvX6VBYpOOxDi  30EpnkJuxCNI7AsAFmbMuQ  0.368         0.477   2.0   -6.457    0.0   0.0292       0.632000      0.000000          0.1080    0.529    133.265  audio_features  2PRjJbHwkAvmTv8h4v18Kr  spotify:track:2PRjJbHwkAvmTv8h4v18Kr  https://api.spotify.com/v1/tracks/2PRjJbHwkAvmTv8h4v18Kr  https://api.spotify.com/v1/audio-analysis/2PRjJbHwkAvmTv8h4v18Kr  191160.0     4.0             2011-09-27    23   4OkeTQCk0fvX6VBYpOOxDi  58          latin_arena_pop musica_aragonesa spanish_pop spanish_pop_rock spanish_rock                1\n",
       "456577.0    28gElfq89W461iUkpUrcvE  5LHRHt1k9lMyONurDHEdrp  1O0Tt33WyC4U15yiIoyHYp  0.857         0.460   0.0   -9.668    1.0   0.3520       0.052900      0.000000          0.1150    0.477    106.974  audio_features  28gElfq89W461iUkpUrcvE  spotify:track:28gElfq89W461iUkpUrcvE  https://api.spotify.com/v1/tracks/28gElfq89W461iUkpUrcvE  https://api.spotify.com/v1/audio-analysis/28gElfq89W461iUkpUrcvE  234542.0     4.0             2017-07-21    0    5LHRHt1k9lMyONurDHEdrp  78          hip_hop pop_rap rap trap                                                                  1\n",
       "456582.0    352SyAVBsD7TO9L7Jhem4j  711EaFigHKV5CTbjIYWswu  1oO8tcrRJw7X0OxGTgTD1Y  0.476         0.631   7.0   -16.254   1.0   0.0335       0.699000      0.951000          0.1060    0.649    169.953  audio_features  352SyAVBsD7TO9L7Jhem4j  spotify:track:352SyAVBsD7TO9L7Jhem4j  https://api.spotify.com/v1/tracks/352SyAVBsD7TO9L7Jhem4j  https://api.spotify.com/v1/audio-analysis/352SyAVBsD7TO9L7Jhem4j  404147.0     4.0             2010-11-09    14   711EaFigHKV5CTbjIYWswu  30          ambient deep_ambient                                                                      1\n",
       "456592.0    4jBOCTy90hifrjdLNje6n2  5VX8hxrcfJWwaTLiqGUHG3  08J3ZjZXN1J5qNbla71PYI  0.720         0.807   11.0  -7.133    0.0   0.2600       0.032800      0.000000          0.6420    0.587    173.995  audio_features  4jBOCTy90hifrjdLNje6n2  spotify:track:4jBOCTy90hifrjdLNje6n2  https://api.spotify.com/v1/tracks/4jBOCTy90hifrjdLNje6n2  https://api.spotify.com/v1/audio-analysis/4jBOCTy90hifrjdLNje6n2  280600.0     4.0             2004-01-01    26   5VX8hxrcfJWwaTLiqGUHG3  65          ccm christian_alternative_rock christian_hip_hop christian_music                          1\n",
       "                                                                                                                                                                                                                                                                                                                                                                                                                                                                                                                                                                                                ..\n",
       "165312.0    0pBewKk1R251xxQzKIh9jr  65HuWBUC1d8ty1q6J42Nfi  59SjgIQv3ASnijrzYyR44Z  0.697         0.266   11.0  -9.516    0.0   0.0443       0.901000      0.000000          0.1100    0.419    110.279  audio_features  0pBewKk1R251xxQzKIh9jr  spotify:track:0pBewKk1R251xxQzKIh9jr  https://api.spotify.com/v1/tracks/0pBewKk1R251xxQzKIh9jr  https://api.spotify.com/v1/audio-analysis/0pBewKk1R251xxQzKIh9jr  265893.0     5.0             2010-08-24    0    65HuWBUC1d8ty1q6J42Nfi  62          latin_alternative latin_rock reggae_en_espanol rock_en_espanol                            1\n",
       "165323.0    6Tl2adJMlwUjGcNu990oRN  329e4yvIujISKGKz1BZZbO  1zFp5Q3Dgo8wmKsmfZ23QX  0.714         0.856   0.0   -3.696    1.0   0.0507       0.018700      0.000000          0.0658    0.760    172.053  audio_features  6Tl2adJMlwUjGcNu990oRN  spotify:track:6Tl2adJMlwUjGcNu990oRN  https://api.spotify.com/v1/tracks/6Tl2adJMlwUjGcNu990oRN  https://api.spotify.com/v1/audio-analysis/6Tl2adJMlwUjGcNu990oRN  208747.0     4.0             2015-10-23    43   329e4yvIujISKGKz1BZZbO  81          reggaeton trap_latino urbano_latino                                                       1\n",
       "165325.0    2RqqZaaib3OYfKzIguwV5I  6A8fFAVTAizTXQ1yKYfYwO  1qAU7ZRt1o5xbTVQGkKQeG  0.927         0.588   2.0   -7.092    1.0   0.1300       0.131000      0.000000          0.0980    0.569    96.997   audio_features  2RqqZaaib3OYfKzIguwV5I  spotify:track:2RqqZaaib3OYfKzIguwV5I  https://api.spotify.com/v1/tracks/2RqqZaaib3OYfKzIguwV5I  https://api.spotify.com/v1/audio-analysis/2RqqZaaib3OYfKzIguwV5I  168866.0     4.0             2016-11-08    0    6A8fFAVTAizTXQ1yKYfYwO  20          unknown                                                                                   1\n",
       "165328.0    7HvZU3U0zDg7CNWa8Ofe45  7otxGBSQsv7bt6J3kEuorn  62IEEaoMLneaVc21nxtAmX  0.657         0.795   9.0   -6.836    1.0   0.0606       0.294000      0.000000          0.0689    0.826    130.009  audio_features  7HvZU3U0zDg7CNWa8Ofe45  spotify:track:7HvZU3U0zDg7CNWa8Ofe45  https://api.spotify.com/v1/tracks/7HvZU3U0zDg7CNWa8Ofe45  https://api.spotify.com/v1/audio-analysis/7HvZU3U0zDg7CNWa8Ofe45  202154.0     4.0             2013-11-20    8    7otxGBSQsv7bt6J3kEuorn  3           unknown                                                                                   1\n",
       "870844.0    2SMWGgAT5C6IghiEiguY7I  23ytwhG1pzX6DIVWRWvW1r  7gfEeNb3awfwfZoTXCONWJ  0.459         0.859   4.0   -6.854    0.0   0.0574       0.000506      0.000005          0.1610    0.786    194.964  audio_features  2SMWGgAT5C6IghiEiguY7I  spotify:track:2SMWGgAT5C6IghiEiguY7I  https://api.spotify.com/v1/tracks/2SMWGgAT5C6IghiEiguY7I  https://api.spotify.com/v1/audio-analysis/2SMWGgAT5C6IghiEiguY7I  166347.0     3.0             2013-05-28    34   23ytwhG1pzX6DIVWRWvW1r  49          djent progressive_metal                                                                   1\n",
       "Length: 198492, dtype: int64"
      ]
     },
     "execution_count": 179,
     "metadata": {},
     "output_type": "execute_result"
    }
   ],
   "source": [
    "df_main.value_counts()"
   ]
  },
  {
   "cell_type": "code",
   "execution_count": 180,
   "metadata": {},
   "outputs": [
    {
     "data": {
      "text/plain": [
       "Unnamed: 0          198492\n",
       "track_uri           198492\n",
       "artist_uri           40912\n",
       "album_uri            93986\n",
       "danceability          1238\n",
       "energy                2196\n",
       "key                     12\n",
       "loudness             22679\n",
       "mode                     2\n",
       "speechiness           1579\n",
       "acousticness          4967\n",
       "instrumentalness      5401\n",
       "liveness              1752\n",
       "valence               1698\n",
       "tempo                77283\n",
       "type                     1\n",
       "id                  198492\n",
       "uri                 198492\n",
       "track_href          198492\n",
       "analysis_url        198492\n",
       "duration_ms          73129\n",
       "time_signature           5\n",
       "release_date          8827\n",
       "pop                     95\n",
       "0                    40912\n",
       "artist_pop              98\n",
       "genres               13935\n",
       "dtype: int64"
      ]
     },
     "execution_count": 180,
     "metadata": {},
     "output_type": "execute_result"
    }
   ],
   "source": [
    "df_main.nunique()"
   ]
  },
  {
   "cell_type": "code",
   "execution_count": 182,
   "metadata": {},
   "outputs": [
    {
     "data": {
      "text/plain": [
       "Index(['Unnamed: 0', 'track_uri', 'artist_uri', 'album_uri', 'danceability',\n",
       "       'energy', 'key', 'loudness', 'mode', 'speechiness', 'acousticness',\n",
       "       'instrumentalness', 'liveness', 'valence', 'tempo', 'type', 'id', 'uri',\n",
       "       'track_href', 'analysis_url', 'duration_ms', 'time_signature',\n",
       "       'release_date', 'pop', '0', 'artist_pop', 'genres'],\n",
       "      dtype='object')"
      ]
     },
     "execution_count": 182,
     "metadata": {},
     "output_type": "execute_result"
    }
   ],
   "source": [
    "df_main.columns"
   ]
  },
  {
   "cell_type": "code",
   "execution_count": 183,
   "metadata": {},
   "outputs": [],
   "source": [
    "dfdropped=df_main.drop(columns=['Unnamed: 0','type', 'id', 'uri',\n",
    "       'track_href', 'analysis_url','0'])"
   ]
  },
  {
   "cell_type": "code",
   "execution_count": 185,
   "metadata": {},
   "outputs": [
    {
     "data": {
      "text/html": [
       "<div>\n",
       "<style scoped>\n",
       "    .dataframe tbody tr th:only-of-type {\n",
       "        vertical-align: middle;\n",
       "    }\n",
       "\n",
       "    .dataframe tbody tr th {\n",
       "        vertical-align: top;\n",
       "    }\n",
       "\n",
       "    .dataframe thead th {\n",
       "        text-align: right;\n",
       "    }\n",
       "</style>\n",
       "<table border=\"1\" class=\"dataframe\">\n",
       "  <thead>\n",
       "    <tr style=\"text-align: right;\">\n",
       "      <th></th>\n",
       "      <th>track_uri</th>\n",
       "      <th>artist_uri</th>\n",
       "      <th>album_uri</th>\n",
       "      <th>danceability</th>\n",
       "      <th>energy</th>\n",
       "      <th>key</th>\n",
       "      <th>loudness</th>\n",
       "      <th>mode</th>\n",
       "      <th>speechiness</th>\n",
       "      <th>acousticness</th>\n",
       "      <th>instrumentalness</th>\n",
       "      <th>liveness</th>\n",
       "      <th>valence</th>\n",
       "      <th>tempo</th>\n",
       "      <th>duration_ms</th>\n",
       "      <th>time_signature</th>\n",
       "      <th>release_date</th>\n",
       "      <th>pop</th>\n",
       "      <th>artist_pop</th>\n",
       "      <th>genres</th>\n",
       "    </tr>\n",
       "  </thead>\n",
       "  <tbody>\n",
       "    <tr>\n",
       "      <th>0</th>\n",
       "      <td>0UaMYEvWZi0ZqiDOoHU3YI</td>\n",
       "      <td>2wIVse2owClT7go1WT98tk</td>\n",
       "      <td>6vV5UrXcfyQD1wu4Qo2I9K</td>\n",
       "      <td>0.904</td>\n",
       "      <td>0.813</td>\n",
       "      <td>4.0</td>\n",
       "      <td>-7.105</td>\n",
       "      <td>0.0</td>\n",
       "      <td>0.121</td>\n",
       "      <td>0.0311</td>\n",
       "      <td>0.006970</td>\n",
       "      <td>0.0471</td>\n",
       "      <td>0.810</td>\n",
       "      <td>125.461</td>\n",
       "      <td>226864.0</td>\n",
       "      <td>4.0</td>\n",
       "      <td>2005-07-04</td>\n",
       "      <td>70</td>\n",
       "      <td>70</td>\n",
       "      <td>dance_pop hip_hop hip_pop neo_soul pop_rap r&amp;b...</td>\n",
       "    </tr>\n",
       "    <tr>\n",
       "      <th>1</th>\n",
       "      <td>3jagJCUbdqhDSPuxP8cAqF</td>\n",
       "      <td>2wIVse2owClT7go1WT98tk</td>\n",
       "      <td>6DeU398qrJ1bLuryetSmup</td>\n",
       "      <td>0.884</td>\n",
       "      <td>0.677</td>\n",
       "      <td>1.0</td>\n",
       "      <td>-5.603</td>\n",
       "      <td>1.0</td>\n",
       "      <td>0.283</td>\n",
       "      <td>0.0778</td>\n",
       "      <td>0.000000</td>\n",
       "      <td>0.0732</td>\n",
       "      <td>0.584</td>\n",
       "      <td>101.868</td>\n",
       "      <td>263227.0</td>\n",
       "      <td>4.0</td>\n",
       "      <td>2002-11-11</td>\n",
       "      <td>73</td>\n",
       "      <td>70</td>\n",
       "      <td>dance_pop hip_hop hip_pop neo_soul pop_rap r&amp;b...</td>\n",
       "    </tr>\n",
       "    <tr>\n",
       "      <th>2</th>\n",
       "      <td>3XplJgPz8VjbDzbGwGgZdq</td>\n",
       "      <td>2wIVse2owClT7go1WT98tk</td>\n",
       "      <td>6epR3D622KWsnuHye7ApOl</td>\n",
       "      <td>0.794</td>\n",
       "      <td>0.805</td>\n",
       "      <td>0.0</td>\n",
       "      <td>-6.554</td>\n",
       "      <td>1.0</td>\n",
       "      <td>0.230</td>\n",
       "      <td>0.5380</td>\n",
       "      <td>0.122000</td>\n",
       "      <td>0.0952</td>\n",
       "      <td>0.658</td>\n",
       "      <td>177.799</td>\n",
       "      <td>236933.0</td>\n",
       "      <td>4.0</td>\n",
       "      <td>2006-09-04</td>\n",
       "      <td>43</td>\n",
       "      <td>70</td>\n",
       "      <td>dance_pop hip_hop hip_pop neo_soul pop_rap r&amp;b...</td>\n",
       "    </tr>\n",
       "    <tr>\n",
       "      <th>3</th>\n",
       "      <td>0jG92AlXau21qgCQRxGLic</td>\n",
       "      <td>2wIVse2owClT7go1WT98tk</td>\n",
       "      <td>20t54K6C80QQH7vbcpfJcP</td>\n",
       "      <td>0.622</td>\n",
       "      <td>0.669</td>\n",
       "      <td>9.0</td>\n",
       "      <td>-8.419</td>\n",
       "      <td>1.0</td>\n",
       "      <td>0.329</td>\n",
       "      <td>0.0266</td>\n",
       "      <td>0.000003</td>\n",
       "      <td>0.1520</td>\n",
       "      <td>0.570</td>\n",
       "      <td>93.839</td>\n",
       "      <td>252987.0</td>\n",
       "      <td>4.0</td>\n",
       "      <td>2001-05-14</td>\n",
       "      <td>58</td>\n",
       "      <td>70</td>\n",
       "      <td>dance_pop hip_hop hip_pop neo_soul pop_rap r&amp;b...</td>\n",
       "    </tr>\n",
       "    <tr>\n",
       "      <th>4</th>\n",
       "      <td>6zsk6uF3MxfIeHPlubKBvR</td>\n",
       "      <td>2wIVse2owClT7go1WT98tk</td>\n",
       "      <td>20t54K6C80QQH7vbcpfJcP</td>\n",
       "      <td>0.797</td>\n",
       "      <td>0.750</td>\n",
       "      <td>0.0</td>\n",
       "      <td>-9.369</td>\n",
       "      <td>1.0</td>\n",
       "      <td>0.247</td>\n",
       "      <td>0.5330</td>\n",
       "      <td>0.108000</td>\n",
       "      <td>0.0950</td>\n",
       "      <td>0.740</td>\n",
       "      <td>177.870</td>\n",
       "      <td>211120.0</td>\n",
       "      <td>4.0</td>\n",
       "      <td>2001-05-14</td>\n",
       "      <td>72</td>\n",
       "      <td>70</td>\n",
       "      <td>dance_pop hip_hop hip_pop neo_soul pop_rap r&amp;b...</td>\n",
       "    </tr>\n",
       "  </tbody>\n",
       "</table>\n",
       "</div>"
      ],
      "text/plain": [
       "                track_uri              artist_uri               album_uri  \\\n",
       "0  0UaMYEvWZi0ZqiDOoHU3YI  2wIVse2owClT7go1WT98tk  6vV5UrXcfyQD1wu4Qo2I9K   \n",
       "1  3jagJCUbdqhDSPuxP8cAqF  2wIVse2owClT7go1WT98tk  6DeU398qrJ1bLuryetSmup   \n",
       "2  3XplJgPz8VjbDzbGwGgZdq  2wIVse2owClT7go1WT98tk  6epR3D622KWsnuHye7ApOl   \n",
       "3  0jG92AlXau21qgCQRxGLic  2wIVse2owClT7go1WT98tk  20t54K6C80QQH7vbcpfJcP   \n",
       "4  6zsk6uF3MxfIeHPlubKBvR  2wIVse2owClT7go1WT98tk  20t54K6C80QQH7vbcpfJcP   \n",
       "\n",
       "   danceability  energy  key  loudness  mode  speechiness  acousticness  \\\n",
       "0         0.904   0.813  4.0    -7.105   0.0        0.121        0.0311   \n",
       "1         0.884   0.677  1.0    -5.603   1.0        0.283        0.0778   \n",
       "2         0.794   0.805  0.0    -6.554   1.0        0.230        0.5380   \n",
       "3         0.622   0.669  9.0    -8.419   1.0        0.329        0.0266   \n",
       "4         0.797   0.750  0.0    -9.369   1.0        0.247        0.5330   \n",
       "\n",
       "   instrumentalness  liveness  valence    tempo  duration_ms  time_signature  \\\n",
       "0          0.006970    0.0471    0.810  125.461     226864.0             4.0   \n",
       "1          0.000000    0.0732    0.584  101.868     263227.0             4.0   \n",
       "2          0.122000    0.0952    0.658  177.799     236933.0             4.0   \n",
       "3          0.000003    0.1520    0.570   93.839     252987.0             4.0   \n",
       "4          0.108000    0.0950    0.740  177.870     211120.0             4.0   \n",
       "\n",
       "  release_date pop  artist_pop  \\\n",
       "0   2005-07-04  70          70   \n",
       "1   2002-11-11  73          70   \n",
       "2   2006-09-04  43          70   \n",
       "3   2001-05-14  58          70   \n",
       "4   2001-05-14  72          70   \n",
       "\n",
       "                                              genres  \n",
       "0  dance_pop hip_hop hip_pop neo_soul pop_rap r&b...  \n",
       "1  dance_pop hip_hop hip_pop neo_soul pop_rap r&b...  \n",
       "2  dance_pop hip_hop hip_pop neo_soul pop_rap r&b...  \n",
       "3  dance_pop hip_hop hip_pop neo_soul pop_rap r&b...  \n",
       "4  dance_pop hip_hop hip_pop neo_soul pop_rap r&b...  "
      ]
     },
     "execution_count": 185,
     "metadata": {},
     "output_type": "execute_result"
    }
   ],
   "source": [
    "dfdropped.head()"
   ]
  },
  {
   "cell_type": "markdown",
   "metadata": {},
   "source": [
    "## Data Preprocessing"
   ]
  },
  {
   "cell_type": "markdown",
   "metadata": {},
   "source": [
    "Dividing tracks in buckets of range 5 accoridng to track and artist popularity\n",
    "Buckets of 50 for release data"
   ]
  },
  {
   "cell_type": "code",
   "execution_count": 194,
   "metadata": {},
   "outputs": [],
   "source": [
    "dfdropped['Track_pop'] = dfdropped['pop'].apply(lambda x: int(int(x)/5))\n",
    "dfdropped['Artist_pop'] = dfdropped['artist_pop'].apply(lambda x: int(int(x)/5))"
   ]
  },
  {
   "cell_type": "code",
   "execution_count": 198,
   "metadata": {},
   "outputs": [],
   "source": [
    "dfdropped['Track_release_date'] = dfdropped['release_date'].apply(lambda x: x.split('-')[0])"
   ]
  },
  {
   "cell_type": "code",
   "execution_count": 199,
   "metadata": {},
   "outputs": [],
   "source": [
    "dfdropped['Track_release_date']=dfdropped['Track_release_date'].astype('int16')"
   ]
  },
  {
   "cell_type": "code",
   "execution_count": 200,
   "metadata": {},
   "outputs": [],
   "source": [
    "\n",
    "dfdropped['Track_release_date'] = dfdropped['Track_release_date'].apply(lambda x: int(x/50))"
   ]
  },
  {
   "cell_type": "code",
   "execution_count": 202,
   "metadata": {},
   "outputs": [
    {
     "data": {
      "text/plain": [
       "Index(['track_uri', 'artist_uri', 'album_uri', 'danceability', 'energy', 'key',\n",
       "       'loudness', 'mode', 'speechiness', 'acousticness', 'instrumentalness',\n",
       "       'liveness', 'valence', 'tempo', 'duration_ms', 'time_signature',\n",
       "       'release_date', 'pop', 'artist_pop', 'genres', 'Track_pop',\n",
       "       'Artist_pop', 'Track_release_date'],\n",
       "      dtype='object')"
      ]
     },
     "execution_count": 202,
     "metadata": {},
     "output_type": "execute_result"
    }
   ],
   "source": [
    "dfdropped.columns"
   ]
  },
  {
   "cell_type": "code",
   "execution_count": null,
   "metadata": {},
   "outputs": [],
   "source": [
    "dfdropped.drop(columns=['pop','artist_pop','release_date'],inplace=True)"
   ]
  },
  {
   "cell_type": "code",
   "execution_count": 16,
   "metadata": {},
   "outputs": [],
   "source": [
    "dfdropped.to_csv('data/final_processed_data.csv',index=False)"
   ]
  },
  {
   "cell_type": "code",
   "execution_count": null,
   "metadata": {},
   "outputs": [],
   "source": [
    "dfdropped.to_parquet('data/final_processed_data.parquet',index=False)"
   ]
  }
 ],
 "metadata": {
  "kernelspec": {
   "display_name": "Python 3.9.13 ('base')",
   "language": "python",
   "name": "python3"
  },
  "language_info": {
   "codemirror_mode": {
    "name": "ipython",
    "version": 3
   },
   "file_extension": ".py",
   "mimetype": "text/x-python",
   "name": "python",
   "nbconvert_exporter": "python",
   "pygments_lexer": "ipython3",
   "version": "3.11.3"
  },
  "orig_nbformat": 4,
  "vscode": {
   "interpreter": {
    "hash": "e246d2215c418239c9316a1ebf2d8abb44dc50b2e5b0e29defd87143398aa387"
   }
  }
 },
 "nbformat": 4,
 "nbformat_minor": 2
}
