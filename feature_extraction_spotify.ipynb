{
 "cells": [
  {
   "cell_type": "markdown",
   "metadata": {},
   "source": [
    "## Importing the libraries"
   ]
  },
  {
   "cell_type": "code",
   "execution_count": 1,
   "metadata": {},
   "outputs": [],
   "source": [
    "import os\n",
    "import pandas as pd\n",
    "import numpy as np\n",
    "import json\n",
    "import yaml\n",
    "import re\n",
    "from tqdm import tqdm\n",
    "# import multiprocessing as mp\n",
    "import time\n",
    "# import random\n",
    "import datetime\n",
    "import spotipy\n",
    "# import spotipy.oauth2 as oauth2\n",
    "from spotipy.oauth2 import SpotifyOAuth,SpotifyClientCredentials"
   ]
  },
  {
   "cell_type": "code",
   "execution_count": 2,
   "metadata": {},
   "outputs": [],
   "source": [
    "stream= open(\"spotify/spotify.yaml\")\n",
    "spotify_details = yaml.safe_load(stream)\n",
    "auth_manager = SpotifyClientCredentials(client_id=spotify_details['Client_id'],\n",
    "                                        client_secret=spotify_details['client_secret'])\n",
    "sp = spotipy.client.Spotify(auth_manager=auth_manager)"
   ]
  },
  {
   "cell_type": "markdown",
   "metadata": {},
   "source": [
    "## Getting relevant info from dataset"
   ]
  },
  {
   "cell_type": "markdown",
   "metadata": {},
   "source": [
    "Data in  the 1_Million_Playlists is in json files with each json file having 1000 playlists.\n",
    "We process it to get the relevant data in csv file.\n",
    "- we require unique track uri string for extracting the data with the spotify client"
   ]
  },
  {
   "cell_type": "code",
   "execution_count": 8,
   "metadata": {},
   "outputs": [],
   "source": [
    "def get_unique_tracks(dataset_path, num_slices=10):\n",
    "  count = 0\n",
    "  playlist_count = 0\n",
    "  mpd_playlists = []\n",
    "  unique_tracks= pd.DataFrame()\n",
    "  filenames = os.listdir(dataset_path)\n",
    "  all_temp=[]\n",
    "  for fname in tqdm(sorted(filenames, key=len)):\n",
    "    if fname.startswith(\"mpd.slice.\") and fname.endswith(\".json\"):\n",
    "      count += 1\n",
    "      fullpath = os.sep.join((dataset_path, fname))\n",
    "      f = open(fullpath)\n",
    "      current_slice = json.load(f)\n",
    "      f.close()\n",
    "      # Create a list of all playlists\n",
    "      for playlist in current_slice['playlists']:\n",
    "        playlist_count +=1\n",
    "        mpd_playlists.append(playlist)\n",
    "        if playlist_count == 1000:\n",
    "          playlist_count=0\n",
    "          temp=pd.DataFrame(mpd_playlists)\n",
    "          temp=temp.explode('tracks')\n",
    "          temp=pd.DataFrame(temp['tracks'].apply(pd.Series))\n",
    "          mpd_playlists = []\n",
    "          all_temp.append(temp)\n",
    "      if count == num_slices:\n",
    "        print(\"Done with json.Breaking loop\\n\")\n",
    "        break\n",
    "  print(\"Joining\")\n",
    "  unique_tracks = pd.concat(all_temp, ignore_index=True)\n",
    "  print(\"Removing duplicates\")\n",
    "  unique_tracks = unique_tracks.drop_duplicates(subset=[\"track_uri\"])\n",
    "  return unique_tracks\n",
    "# Path where the json files are extracted\n",
    "dataset_path = 'dataset_200/'"
   ]
  },
  {
   "cell_type": "code",
   "execution_count": 9,
   "metadata": {},
   "outputs": [
    {
     "name": "stderr",
     "output_type": "stream",
     "text": [
      "  0%|          | 0/200 [00:00<?, ?it/s]"
     ]
    },
    {
     "name": "stderr",
     "output_type": "stream",
     "text": [
      " 14%|█▍        | 29/200 [10:44<1:03:21, 22.23s/it]"
     ]
    },
    {
     "name": "stdout",
     "output_type": "stream",
     "text": [
      "Done with json.Breaking loop\n",
      "\n",
      "Joining\n"
     ]
    },
    {
     "name": "stderr",
     "output_type": "stream",
     "text": [
      "\n"
     ]
    },
    {
     "name": "stdout",
     "output_type": "stream",
     "text": [
      "Removing duplicates\n"
     ]
    }
   ],
   "source": [
    "df = get_unique_tracks(dataset_path, num_slices=30)\n",
    "df.to_csv('data/unique_tracks_mpd.csv')"
   ]
  },
  {
   "cell_type": "code",
   "execution_count": 5,
   "metadata": {},
   "outputs": [
    {
     "ename": "NameError",
     "evalue": "name 'df' is not defined",
     "output_type": "error",
     "traceback": [
      "\u001b[1;31m---------------------------------------------------------------------------\u001b[0m",
      "\u001b[1;31mNameError\u001b[0m                                 Traceback (most recent call last)",
      "Cell \u001b[1;32mIn[5], line 1\u001b[0m\n\u001b[1;32m----> 1\u001b[0m \u001b[43mdf\u001b[49m\u001b[38;5;241m.\u001b[39mto_parquet(\u001b[38;5;124m'\u001b[39m\u001b[38;5;124mdata/unique_tracks_mpd_parquet.parquet\u001b[39m\u001b[38;5;124m'\u001b[39m)\n",
      "\u001b[1;31mNameError\u001b[0m: name 'df' is not defined"
     ]
    }
   ],
   "source": [
    "df.to_parquet('data/unique_tracks_mpd_parquet.parquet')"
   ]
  },
  {
   "cell_type": "code",
   "execution_count": null,
   "metadata": {},
   "outputs": [],
   "source": [
    "df[\"track_uri\"] = df[\"track_uri\"].apply(lambda x: re.findall(r'\\w+$', x)[0])\n",
    "df[\"artist_uri\"] = df[\"artist_uri\"].apply(lambda x: re.findall(r'\\w+$', x)[0])\n",
    "df[\"album_uri\"] = df[\"album_uri\"].apply(lambda x: re.findall(r'\\w+$', x)[0])"
   ]
  },
  {
   "cell_type": "code",
   "execution_count": 6,
   "metadata": {},
   "outputs": [
    {
     "ename": "NameError",
     "evalue": "name 'df' is not defined",
     "output_type": "error",
     "traceback": [
      "\u001b[1;31m---------------------------------------------------------------------------\u001b[0m",
      "\u001b[1;31mNameError\u001b[0m                                 Traceback (most recent call last)",
      "Cell \u001b[1;32mIn[6], line 1\u001b[0m\n\u001b[1;32m----> 1\u001b[0m df \u001b[38;5;241m=\u001b[39m \u001b[43mdf\u001b[49m[[\u001b[38;5;124m'\u001b[39m\u001b[38;5;124mtrack_uri\u001b[39m\u001b[38;5;124m'\u001b[39m,\u001b[38;5;124m'\u001b[39m\u001b[38;5;124martist_uri\u001b[39m\u001b[38;5;124m'\u001b[39m,\u001b[38;5;124m'\u001b[39m\u001b[38;5;124malbum_uri\u001b[39m\u001b[38;5;124m'\u001b[39m]]\n",
      "\u001b[1;31mNameError\u001b[0m: name 'df' is not defined"
     ]
    }
   ],
   "source": [
    "df = df[['track_uri','artist_uri','album_uri']]"
   ]
  },
  {
   "cell_type": "code",
   "execution_count": 14,
   "metadata": {},
   "outputs": [],
   "source": [
    "# df.to_csv('data/unique_tracks_mpd_drop.csv')\n",
    "# df.to_parquet('data/unique_tracks_mpd_drop_parquet.parquet')"
   ]
  },
  {
   "cell_type": "markdown",
   "metadata": {},
   "source": [
    "## Reading from extracted data"
   ]
  },
  {
   "cell_type": "code",
   "execution_count": 3,
   "metadata": {},
   "outputs": [],
   "source": [
    "df=pd.read_parquet('data/unique_tracks_mpd_drop_parquet.parquet') "
   ]
  },
  {
   "cell_type": "code",
   "execution_count": 4,
   "metadata": {},
   "outputs": [
    {
     "data": {
      "text/html": [
       "<div>\n",
       "<style scoped>\n",
       "    .dataframe tbody tr th:only-of-type {\n",
       "        vertical-align: middle;\n",
       "    }\n",
       "\n",
       "    .dataframe tbody tr th {\n",
       "        vertical-align: top;\n",
       "    }\n",
       "\n",
       "    .dataframe thead th {\n",
       "        text-align: right;\n",
       "    }\n",
       "</style>\n",
       "<table border=\"1\" class=\"dataframe\">\n",
       "  <thead>\n",
       "    <tr style=\"text-align: right;\">\n",
       "      <th></th>\n",
       "      <th>track_uri</th>\n",
       "      <th>artist_uri</th>\n",
       "      <th>album_uri</th>\n",
       "    </tr>\n",
       "  </thead>\n",
       "  <tbody>\n",
       "    <tr>\n",
       "      <th>0</th>\n",
       "      <td>0UaMYEvWZi0ZqiDOoHU3YI</td>\n",
       "      <td>2wIVse2owClT7go1WT98tk</td>\n",
       "      <td>6vV5UrXcfyQD1wu4Qo2I9K</td>\n",
       "    </tr>\n",
       "    <tr>\n",
       "      <th>1</th>\n",
       "      <td>6I9VzXrHxO9rA9A5euc8Ak</td>\n",
       "      <td>26dSoYclwsYLMAKD3tpOr4</td>\n",
       "      <td>0z7pVBGOD7HCIB7S8eLkLI</td>\n",
       "    </tr>\n",
       "    <tr>\n",
       "      <th>2</th>\n",
       "      <td>0WqIKmW4BTrj3eJFmnCKMv</td>\n",
       "      <td>6vWDO969PvNqNYHIOW5v0m</td>\n",
       "      <td>25hVFAxTlDvXbx2X2QkUkE</td>\n",
       "    </tr>\n",
       "    <tr>\n",
       "      <th>3</th>\n",
       "      <td>1AWQoqb9bSvzTjaLralEkT</td>\n",
       "      <td>31TPClRtHm23RisEBtV3X7</td>\n",
       "      <td>6QPkyl04rXwTGlGlcYaRoW</td>\n",
       "    </tr>\n",
       "    <tr>\n",
       "      <th>4</th>\n",
       "      <td>1lzr43nnXAijIGYnCT8M8H</td>\n",
       "      <td>5EvFsr3kj42KNv97ZEnqij</td>\n",
       "      <td>6NmFmPX56pcLBOFMhIiKvF</td>\n",
       "    </tr>\n",
       "  </tbody>\n",
       "</table>\n",
       "</div>"
      ],
      "text/plain": [
       "                track_uri              artist_uri               album_uri\n",
       "0  0UaMYEvWZi0ZqiDOoHU3YI  2wIVse2owClT7go1WT98tk  6vV5UrXcfyQD1wu4Qo2I9K\n",
       "1  6I9VzXrHxO9rA9A5euc8Ak  26dSoYclwsYLMAKD3tpOr4  0z7pVBGOD7HCIB7S8eLkLI\n",
       "2  0WqIKmW4BTrj3eJFmnCKMv  6vWDO969PvNqNYHIOW5v0m  25hVFAxTlDvXbx2X2QkUkE\n",
       "3  1AWQoqb9bSvzTjaLralEkT  31TPClRtHm23RisEBtV3X7  6QPkyl04rXwTGlGlcYaRoW\n",
       "4  1lzr43nnXAijIGYnCT8M8H  5EvFsr3kj42KNv97ZEnqij  6NmFmPX56pcLBOFMhIiKvF"
      ]
     },
     "execution_count": 4,
     "metadata": {},
     "output_type": "execute_result"
    }
   ],
   "source": [
    "df.head()"
   ]
  },
  {
   "cell_type": "code",
   "execution_count": 5,
   "metadata": {},
   "outputs": [
    {
     "data": {
      "text/plain": [
       "Index(['track_uri', 'artist_uri', 'album_uri'], dtype='object')"
      ]
     },
     "execution_count": 5,
     "metadata": {},
     "output_type": "execute_result"
    }
   ],
   "source": [
    "df.columns"
   ]
  },
  {
   "cell_type": "code",
   "execution_count": 6,
   "metadata": {},
   "outputs": [],
   "source": [
    "t_uri=df[\"track_uri\"].unique()\n",
    "a_uri=df[\"artist_uri\"].unique()"
   ]
  },
  {
   "cell_type": "markdown",
   "metadata": {},
   "source": [
    "# Feature extraction"
   ]
  },
  {
   "cell_type": "markdown",
   "metadata": {},
   "source": [
    "Using the Spotify API for Feature Extraction and Saving Results to a CSV File and Errors to a Log File"
   ]
  },
  {
   "cell_type": "markdown",
   "metadata": {},
   "source": [
    "## Audio features"
   ]
  },
  {
   "cell_type": "code",
   "execution_count": 15,
   "metadata": {},
   "outputs": [
    {
     "name": "stderr",
     "output_type": "stream",
     "text": [
      "  0%|          | 0/2 [00:00<?, ?it/s]"
     ]
    },
    {
     "name": "stderr",
     "output_type": "stream",
     "text": [
      "Max Retries reached\n",
      " 50%|█████     | 1/2 [00:05<00:05,  5.63s/it]Max Retries reached\n",
      "100%|██████████| 2/2 [00:10<00:00,  5.48s/it]\n"
     ]
    }
   ],
   "source": [
    "f = open('data/audio_features.csv','a')\n",
    "e=0\n",
    "for i in tqdm(range(0,200,100)):\n",
    "    try:\n",
    "     track_feature = sp.audio_features(t_uri[i:i+100])\n",
    "     track_df = pd.DataFrame(track_feature)\n",
    "     if(i==0):\n",
    "        track_df.to_csv(\"data/audio_features.csv\",mode='a',header=True,index=False)\n",
    "     else:\n",
    "        track_df.to_csv(\"data/audio_features.csv\",mode='a',header=False,index=False) \n",
    "    #  f.write(csv_data)\n",
    "    except Exception as error:\n",
    "        e+=1\n",
    "        r = open(\"data/log/audio_features_log.txt\", \"a\")\n",
    "        r.write(datetime.datetime.now().strftime(\"%d.%b %Y %H:%M:%S\")+\": \"+str(error)+'\\n')\n",
    "        r.close()\n",
    "        time.sleep(3)\n",
    "        continue\n",
    "r = open(\"data/log/audio_features_log.txt\", \"a\")\n",
    "r.write(datetime.datetime.now().strftime(\"%d.%b %Y %H:%M:%S\")+\" _________________________ \"+\"Total Number Of Errors : \"+str(e)+\" _________________________ \"+'\\n')\n",
    "r.close()\n",
    "f.close()"
   ]
  },
  {
   "cell_type": "code",
   "execution_count": 13,
   "metadata": {},
   "outputs": [
    {
     "data": {
      "text/plain": [
       "'0.904,0.813,4,-7.105,0,0.121,0.0311,0.00697,0.0471,0.81,125.461,audio_features,0UaMYEvWZi0ZqiDOoHU3YI,spotify:track:0UaMYEvWZi0ZqiDOoHU3YI,https://api.spotify.com/v1/tracks/0UaMYEvWZi0ZqiDOoHU3YI,https://api.spotify.com/v1/audio-analysis/0UaMYEvWZi0ZqiDOoHU3YI,226864,4\\r\\n0.774,0.838,5,-3.914,0,0.114,0.0249,0.025,0.242,0.924,143.04,audio_features,6I9VzXrHxO9rA9A5euc8Ak,spotify:track:6I9VzXrHxO9rA9A5euc8Ak,https://api.spotify.com/v1/tracks/6I9VzXrHxO9rA9A5euc8Ak,https://api.spotify.com/v1/audio-analysis/6I9VzXrHxO9rA9A5euc8Ak,198800,4\\r\\n0.664,0.758,2,-6.583,0,0.21,0.00238,0.0,0.0598,0.701,99.259,audio_features,0WqIKmW4BTrj3eJFmnCKMv,spotify:track:0WqIKmW4BTrj3eJFmnCKMv,https://api.spotify.com/v1/tracks/0WqIKmW4BTrj3eJFmnCKMv,https://api.spotify.com/v1/audio-analysis/0WqIKmW4BTrj3eJFmnCKMv,235933,4\\r\\n0.892,0.714,4,-6.055,0,0.141,0.201,0.000234,0.0521,0.817,100.972,audio_features,1AWQoqb9bSvzTjaLralEkT,spotify:track:1AWQoqb9bSvzTjaLralEkT,https://api.spotify.com/v1/tracks/1AWQoqb9bSvzTjaLralEkT,https://api.spotify.com/v1/audio-analysis/1AWQoqb9bSvzTjaLralEkT,267267,4\\r\\n0.853,0.606,0,-4.596,1,0.0713,0.0561,0.0,0.313,0.654,94.759,audio_features,1lzr43nnXAijIGYnCT8M8H,spotify:track:1lzr43nnXAijIGYnCT8M8H,https://api.spotify.com/v1/tracks/1lzr43nnXAijIGYnCT8M8H,https://api.spotify.com/v1/audio-analysis/1lzr43nnXAijIGYnCT8M8H,227600,4\\r\\n0.881,0.788,2,-4.669,1,0.168,0.0212,0.0,0.0377,0.592,104.997,audio_features,0XUfyU2QviPAs6bxSpXYG4,spotify:track:0XUfyU2QviPAs6bxSpXYG4,https://api.spotify.com/v1/tracks/0XUfyU2QviPAs6bxSpXYG4,https://api.spotify.com/v1/audio-analysis/0XUfyU2QviPAs6bxSpXYG4,250373,4\\r\\n0.662,0.507,5,-8.238,1,0.118,0.257,0.0,0.0465,0.676,86.412,audio_features,68vgtRHr7iZHpzGpon6Jlo,spotify:track:68vgtRHr7iZHpzGpon6Jlo,https://api.spotify.com/v1/tracks/68vgtRHr7iZHpzGpon6Jlo,https://api.spotify.com/v1/audio-analysis/68vgtRHr7iZHpzGpon6Jlo,223440,4\\r\\n0.57,0.821,2,-4.38,1,0.267,0.178,0.0,0.289,0.408,210.857,audio_features,3BxWKCI06eQ5Od8TY2JBeA,spotify:track:3BxWKCI06eQ5Od8TY2JBeA,https://api.spotify.com/v1/tracks/3BxWKCI06eQ5Od8TY2JBeA,https://api.spotify.com/v1/audio-analysis/3BxWKCI06eQ5Od8TY2JBeA,225560,4\\r\\n0.713,0.678,5,-3.525,0,0.102,0.273,0.0,0.149,0.734,138.009,audio_features,7H6ev70Weq6DdpZyyTmUXk,spotify:track:7H6ev70Weq6DdpZyyTmUXk,https://api.spotify.com/v1/tracks/7H6ev70Weq6DdpZyyTmUXk,https://api.spotify.com/v1/audio-analysis/7H6ev70Weq6DdpZyyTmUXk,271333,4\\r\\n0.727,0.974,4,-2.261,0,0.0664,0.103,0.000532,0.174,0.965,79.526,audio_features,2PpruBYCo4H7WOBJ7Q2EwM,spotify:track:2PpruBYCo4H7WOBJ7Q2EwM,https://api.spotify.com/v1/tracks/2PpruBYCo4H7WOBJ7Q2EwM,https://api.spotify.com/v1/audio-analysis/2PpruBYCo4H7WOBJ7Q2EwM,235213,4\\r\\n0.808,0.97,10,-6.098,0,0.0506,0.0569,6.13e-05,0.154,0.868,114.328,audio_features,2gam98EZKrF9XuOkU13ApN,spotify:track:2gam98EZKrF9XuOkU13ApN,https://api.spotify.com/v1/tracks/2gam98EZKrF9XuOkU13ApN,https://api.spotify.com/v1/audio-analysis/2gam98EZKrF9XuOkU13ApN,242293,4\\r\\n0.71,0.553,4,-4.722,0,0.0292,0.00206,5.48e-05,0.0469,0.731,99.005,audio_features,4Y45aqo9QMa57rDsAJv40A,spotify:track:4Y45aqo9QMa57rDsAJv40A,https://api.spotify.com/v1/tracks/4Y45aqo9QMa57rDsAJv40A,https://api.spotify.com/v1/audio-analysis/4Y45aqo9QMa57rDsAJv40A,211693,4\\r\\n0.66,0.666,9,-4.342,1,0.0472,0.0759,0.0,0.0268,0.933,89.975,audio_features,1HwpWwa6bnqqRhK8agG4RS,spotify:track:1HwpWwa6bnqqRhK8agG4RS,https://api.spotify.com/v1/tracks/1HwpWwa6bnqqRhK8agG4RS,https://api.spotify.com/v1/audio-analysis/1HwpWwa6bnqqRhK8agG4RS,214227,4\\r\\n0.687,0.71,9,-5.84,1,0.0522,0.0283,3.71e-06,0.0689,0.886,79.235,audio_features,20ORwCJusz4KS2PbTPVNKo,spotify:track:20ORwCJusz4KS2PbTPVNKo,https://api.spotify.com/v1/tracks/20ORwCJusz4KS2PbTPVNKo,https://api.spotify.com/v1/audio-analysis/20ORwCJusz4KS2PbTPVNKo,216880,4\\r\\n0.803,0.454,8,-4.802,0,0.0294,0.352,0.0,0.0655,0.739,99.99,audio_features,7k6IzwMGpxnRghE7YosnXT,spotify:track:7k6IzwMGpxnRghE7YosnXT,https://api.spotify.com/v1/tracks/7k6IzwMGpxnRghE7YosnXT,https://api.spotify.com/v1/audio-analysis/7k6IzwMGpxnRghE7YosnXT,192213,4\\r\\n0.775,0.731,8,-5.446,1,0.134,0.189,0.0,0.129,0.821,131.103,audio_features,1Bv0Yl01xBDZD4OQP93fyl,spotify:track:1Bv0Yl01xBDZD4OQP93fyl,https://api.spotify.com/v1/tracks/1Bv0Yl01xBDZD4OQP93fyl,https://api.spotify.com/v1/audio-analysis/1Bv0Yl01xBDZD4OQP93fyl,256427,4\\r\\n0.487,0.9,0,-4.417,1,0.0482,6.79e-05,0.0,0.358,0.484,149.937,audio_features,4omisSlTk6Dsq2iQD7MA07,spotify:track:4omisSlTk6Dsq2iQD7MA07,https://api.spotify.com/v1/tracks/4omisSlTk6Dsq2iQD7MA07,https://api.spotify.com/v1/audio-analysis/4omisSlTk6Dsq2iQD7MA07,204000,4\\r\\n0.846,0.482,1,-6.721,0,0.129,0.0246,0.0,0.393,0.212,100.969,audio_features,7xYnUQigPoIDAMPVK79NEq,spotify:track:7xYnUQigPoIDAMPVK79NEq,https://api.spotify.com/v1/tracks/7xYnUQigPoIDAMPVK79NEq,https://api.spotify.com/v1/audio-analysis/7xYnUQigPoIDAMPVK79NEq,229867,4\\r\\n0.705,0.796,7,-6.845,1,0.267,0.0708,0.0,0.388,0.864,166.042,audio_features,6d8A5sAx9TfdeseDvfWNHd,spotify:track:6d8A5sAx9TfdeseDvfWNHd,https://api.spotify.com/v1/tracks/6d8A5sAx9TfdeseDvfWNHd,https://api.spotify.com/v1/audio-analysis/6d8A5sAx9TfdeseDvfWNHd,210453,4\\r\\n0.771,0.685,1,-4.639,1,0.0567,0.00543,0.00157,0.0537,0.683,88.997,audio_features,4pmc2AxSEq6g7hPVlJCPyP,spotify:track:4pmc2AxSEq6g7hPVlJCPyP,https://api.spotify.com/v1/tracks/4pmc2AxSEq6g7hPVlJCPyP,https://api.spotify.com/v1/audio-analysis/4pmc2AxSEq6g7hPVlJCPyP,230200,4\\r\\n0.717,0.733,4,-4.985,1,0.0427,0.0398,0.0,0.136,0.713,119.996,audio_features,215JYyyUnrJ98NK3KEwu6d,spotify:track:215JYyyUnrJ98NK3KEwu6d,https://api.spotify.com/v1/tracks/215JYyyUnrJ98NK3KEwu6d,https://api.spotify.com/v1/audio-analysis/215JYyyUnrJ98NK3KEwu6d,292307,4\\r\\n0.835,0.687,5,-3.18,1,0.184,0.101,0.0,0.132,0.828,94.059,audio_features,0uqPG793dkDDN7sCUJJIVC,spotify:track:0uqPG793dkDDN7sCUJJIVC,https://api.spotify.com/v1/tracks/0uqPG793dkDDN7sCUJJIVC,https://api.spotify.com/v1/audio-analysis/0uqPG793dkDDN7sCUJJIVC,272533,4\\r\\n0.728,0.801,4,-3.636,1,0.0752,0.00349,0.000195,0.0907,0.813,119.989,audio_features,19Js5ypV6JKn4DMExHQbGc,spotify:track:19Js5ypV6JKn4DMExHQbGc,https://api.spotify.com/v1/tracks/19Js5ypV6JKn4DMExHQbGc,https://api.spotify.com/v1/audio-analysis/19Js5ypV6JKn4DMExHQbGc,193043,4\\r\\n0.571,0.89,9,-1.6,1,0.0395,0.00509,0.0,0.0769,0.751,110.958,audio_features,1JURww012QnWAw0zZXi6Aa,spotify:track:1JURww012QnWAw0zZXi6Aa,https://api.spotify.com/v1/tracks/1JURww012QnWAw0zZXi6Aa,https://api.spotify.com/v1/audio-analysis/1JURww012QnWAw0zZXi6Aa,234147,4\\r\\n0.536,0.612,4,-5.847,1,0.272,0.119,0.0,0.209,0.57,86.768,audio_features,7DFnq8FYhHMCylykf6ZCxA,spotify:track:7DFnq8FYhHMCylykf6ZCxA,https://api.spotify.com/v1/tracks/7DFnq8FYhHMCylykf6ZCxA,https://api.spotify.com/v1/audio-analysis/7DFnq8FYhHMCylykf6ZCxA,229040,4\\r\\n0.659,0.869,11,-5.858,1,0.046,0.00357,0.0,0.302,0.811,106.966,audio_features,1TfAhjzRBWzYZ8IdUV3igl,spotify:track:1TfAhjzRBWzYZ8IdUV3igl,https://api.spotify.com/v1/tracks/1TfAhjzRBWzYZ8IdUV3igl,https://api.spotify.com/v1/audio-analysis/1TfAhjzRBWzYZ8IdUV3igl,201960,4\\r\\n0.619,0.87,2,-4.956,1,0.501,0.41,1.37e-06,0.0571,0.94,188.772,audio_features,1Y4ZdPOOgCUhBcKZOrUFiS,spotify:track:1Y4ZdPOOgCUhBcKZOrUFiS,https://api.spotify.com/v1/tracks/1Y4ZdPOOgCUhBcKZOrUFiS,https://api.spotify.com/v1/audio-analysis/1Y4ZdPOOgCUhBcKZOrUFiS,219773,4\\r\\n0.624,0.976,8,-5.355,1,0.0494,0.004,1.18e-05,0.376,0.514,142.008,audio_features,6MjljecHzHelUDismyKkba,spotify:track:6MjljecHzHelUDismyKkba,https://api.spotify.com/v1/tracks/6MjljecHzHelUDismyKkba,https://api.spotify.com/v1/audio-analysis/6MjljecHzHelUDismyKkba,199120,4\\r\\n0.615,0.711,11,-5.507,1,0.0779,0.0444,0.0,0.145,0.711,144.036,audio_features,67T6l4q3zVjC5nZZPXByU8,spotify:track:67T6l4q3zVjC5nZZPXByU8,https://api.spotify.com/v1/tracks/67T6l4q3zVjC5nZZPXByU8,https://api.spotify.com/v1/audio-analysis/67T6l4q3zVjC5nZZPXByU8,221253,4\\r\\n0.673,0.683,1,-5.693,1,0.115,0.522,0.0,0.235,0.713,171.86,audio_features,34ceTg8ChN5HjrqiIYCn9Q,spotify:track:34ceTg8ChN5HjrqiIYCn9Q,https://api.spotify.com/v1/tracks/34ceTg8ChN5HjrqiIYCn9Q,https://api.spotify.com/v1/audio-analysis/34ceTg8ChN5HjrqiIYCn9Q,232000,4\\r\\n0.652,0.698,10,-4.667,0,0.042,0.00112,0.000115,0.0886,0.47,96.021,audio_features,5Q0Nhxo0l2bP3pNjpGJwV1,spotify:track:5Q0Nhxo0l2bP3pNjpGJwV1,https://api.spotify.com/v1/tracks/5Q0Nhxo0l2bP3pNjpGJwV1,https://api.spotify.com/v1/audio-analysis/5Q0Nhxo0l2bP3pNjpGJwV1,202067,4\\r\\n0.423,0.94,1,-4.012,0,0.0635,0.00166,0.0,0.178,0.505,149.934,audio_features,6GIrIt2M39wEGwjCQjGChX,spotify:track:6GIrIt2M39wEGwjCQjGChX,https://api.spotify.com/v1/tracks/6GIrIt2M39wEGwjCQjGChX,https://api.spotify.com/v1/audio-analysis/6GIrIt2M39wEGwjCQjGChX,206520,4\\r\\n0.706,0.751,9,-6.323,1,0.0708,0.173,0.0,0.168,0.195,91.031,audio_features,4E5P1XyAFtrjpiIxkydly4,spotify:track:4E5P1XyAFtrjpiIxkydly4,https://api.spotify.com/v1/tracks/4E5P1XyAFtrjpiIxkydly4,https://api.spotify.com/v1/audio-analysis/4E5P1XyAFtrjpiIxkydly4,182307,4\\r\\n0.669,0.822,11,-4.288,1,0.043,0.0339,0.000142,0.231,0.43,120.011,audio_features,3H1LCvO3fVsK2HPguhbml0,spotify:track:3H1LCvO3fVsK2HPguhbml0,https://api.spotify.com/v1/tracks/3H1LCvO3fVsK2HPguhbml0,https://api.spotify.com/v1/audio-analysis/3H1LCvO3fVsK2HPguhbml0,277107,4\\r\\n0.829,0.627,1,-3.928,1,0.0759,0.00663,0.0,0.0939,0.72,120.048,audio_features,3uoQULcUWfnt6nc6J7Vgai,spotify:track:3uoQULcUWfnt6nc6J7Vgai,https://api.spotify.com/v1/tracks/3uoQULcUWfnt6nc6J7Vgai,https://api.spotify.com/v1/audio-analysis/3uoQULcUWfnt6nc6J7Vgai,187133,4\\r\\n0.709,0.745,4,-6.437,0,0.0738,0.0225,5.2e-05,0.154,0.576,126.027,audio_features,2nbClS09zsIAqNkshg6jnp,spotify:track:2nbClS09zsIAqNkshg6jnp,https://api.spotify.com/v1/tracks/2nbClS09zsIAqNkshg6jnp,https://api.spotify.com/v1/audio-analysis/2nbClS09zsIAqNkshg6jnp,234360,4\\r\\n0.58,0.75,4,-4.421,1,0.194,0.159,0.0,0.274,0.728,86.938,audio_features,69ghzc538EQSVon2Gm3wrr,spotify:track:69ghzc538EQSVon2Gm3wrr,https://api.spotify.com/v1/tracks/69ghzc538EQSVon2Gm3wrr,https://api.spotify.com/v1/audio-analysis/69ghzc538EQSVon2Gm3wrr,229107,4\\r\\n0.447,0.848,2,-6.175,1,0.222,0.033,7.45e-05,0.722,0.485,172.247,audio_features,1kusepF3AacIEtUTYrw4GV,spotify:track:1kusepF3AacIEtUTYrw4GV,https://api.spotify.com/v1/tracks/1kusepF3AacIEtUTYrw4GV,https://api.spotify.com/v1/audio-analysis/1kusepF3AacIEtUTYrw4GV,203760,4\\r\\n0.356,0.924,1,-3.74,1,0.0808,0.00101,0.0,0.0953,0.232,148.017,audio_features,7oK9VyNzrYvRFo7nQEYkWN,spotify:track:7oK9VyNzrYvRFo7nQEYkWN,https://api.spotify.com/v1/tracks/7oK9VyNzrYvRFo7nQEYkWN,https://api.spotify.com/v1/audio-analysis/7oK9VyNzrYvRFo7nQEYkWN,222587,4\\r\\n0.442,0.893,0,-4.878,1,0.0505,0.00844,0.0,0.529,0.712,148.119,audio_features,12qZHAeOyTf93YAWvGDTat,spotify:track:12qZHAeOyTf93YAWvGDTat,https://api.spotify.com/v1/tracks/12qZHAeOyTf93YAWvGDTat,https://api.spotify.com/v1/audio-analysis/12qZHAeOyTf93YAWvGDTat,168000,4\\r\\n0.938,0.735,7,-6.382,1,0.0434,0.00952,0.0,0.0998,0.55,103.7,audio_features,2jFlMILIQzs7lSFudG9lbo,spotify:track:2jFlMILIQzs7lSFudG9lbo,https://api.spotify.com/v1/tracks/2jFlMILIQzs7lSFudG9lbo,https://api.spotify.com/v1/audio-analysis/2jFlMILIQzs7lSFudG9lbo,229360,4\\r\\n0.719,0.839,5,-5.235,1,0.0257,0.00241,0.0,0.228,0.636,129.97,audio_features,4I2GqMe7L2ccMpUbnDzYLH,spotify:track:4I2GqMe7L2ccMpUbnDzYLH,https://api.spotify.com/v1/tracks/4I2GqMe7L2ccMpUbnDzYLH,https://api.spotify.com/v1/audio-analysis/4I2GqMe7L2ccMpUbnDzYLH,220920,4\\r\\n0.465,0.954,10,-4.251,1,0.044,0.000346,5.38e-06,0.573,0.458,143.85,audio_features,5lDriBxJd22IhOH9zTcFrV,spotify:track:5lDriBxJd22IhOH9zTcFrV,https://api.spotify.com/v1/tracks/5lDriBxJd22IhOH9zTcFrV,https://api.spotify.com/v1/audio-analysis/5lDriBxJd22IhOH9zTcFrV,193653,4\\r\\n0.73,0.848,5,-5.262,0,0.101,0.0494,0.0,0.133,0.559,65.025,audio_features,2eJ8ij1T3cNUKiGdcUvKhy,spotify:track:2eJ8ij1T3cNUKiGdcUvKhy,https://api.spotify.com/v1/tracks/2eJ8ij1T3cNUKiGdcUvKhy,https://api.spotify.com/v1/audio-analysis/2eJ8ij1T3cNUKiGdcUvKhy,213973,4\\r\\n0.559,0.845,11,-3.871,1,0.0379,0.222,0.0,0.164,0.304,94.915,audio_features,5y69gQtK33qxb8a24ACkCy,spotify:track:5y69gQtK33qxb8a24ACkCy,https://api.spotify.com/v1/tracks/5y69gQtK33qxb8a24ACkCy,https://api.spotify.com/v1/audio-analysis/5y69gQtK33qxb8a24ACkCy,237493,4\\r\\n0.725,0.732,9,-6.594,1,0.156,0.0501,1.8e-06,0.104,0.515,93.029,audio_features,1X5WGCrUMuwRFuYU1eAo2I,spotify:track:1X5WGCrUMuwRFuYU1eAo2I,https://api.spotify.com/v1/tracks/1X5WGCrUMuwRFuYU1eAo2I,https://api.spotify.com/v1/audio-analysis/1X5WGCrUMuwRFuYU1eAo2I,201230,4\\r\\n0.695,0.903,9,-5.092,0,0.162,0.0137,4.32e-05,0.126,0.811,138.985,audio_features,3utIAb67sOu0QHxBE88P1M,spotify:track:3utIAb67sOu0QHxBE88P1M,https://api.spotify.com/v1/tracks/3utIAb67sOu0QHxBE88P1M,https://api.spotify.com/v1/audio-analysis/3utIAb67sOu0QHxBE88P1M,190453,4\\r\\n0.747,0.878,8,-3.533,1,0.0282,0.343,0.0,0.0872,0.557,106.004,audio_features,3jkdQNkDTxxXtjSO4l0o1H,spotify:track:3jkdQNkDTxxXtjSO4l0o1H,https://api.spotify.com/v1/tracks/3jkdQNkDTxxXtjSO4l0o1H,https://api.spotify.com/v1/audio-analysis/3jkdQNkDTxxXtjSO4l0o1H,208333,4\\r\\n0.485,0.823,1,-2.816,1,0.0362,0.00981,0.0,0.116,0.555,91.005,audio_features,5c1sfI6wIQEsSUw0xrkFdl,spotify:track:5c1sfI6wIQEsSUw0xrkFdl,https://api.spotify.com/v1/tracks/5c1sfI6wIQEsSUw0xrkFdl,https://api.spotify.com/v1/audio-analysis/5c1sfI6wIQEsSUw0xrkFdl,189187,4\\r\\n0.414,0.936,2,-2.407,1,0.0758,0.00136,0.0,0.369,0.74,170.229,audio_features,6sqNctd7MlJoKDOxPVCAvU,spotify:track:6sqNctd7MlJoKDOxPVCAvU,https://api.spotify.com/v1/tracks/6sqNctd7MlJoKDOxPVCAvU,https://api.spotify.com/v1/audio-analysis/6sqNctd7MlJoKDOxPVCAvU,242413,4\\r\\n0.35,0.909,2,-4.204,1,0.0774,0.0024,0.0,0.163,0.314,166.866,audio_features,1b7vg5T9YKR3NNqXfBYRF7,spotify:track:1b7vg5T9YKR3NNqXfBYRF7,https://api.spotify.com/v1/tracks/1b7vg5T9YKR3NNqXfBYRF7,https://api.spotify.com/v1/audio-analysis/1b7vg5T9YKR3NNqXfBYRF7,220133,4\\r\\n0.815,0.438,0,-14.522,0,0.0346,0.216,0.000466,0.0787,0.552,108.965,audio_features,2HHtWyy5CgaQbC7XSoOb0e,spotify:track:2HHtWyy5CgaQbC7XSoOb0e,https://api.spotify.com/v1/tracks/2HHtWyy5CgaQbC7XSoOb0e,https://api.spotify.com/v1/audio-analysis/2HHtWyy5CgaQbC7XSoOb0e,243773,4\\r\\n0.343,0.975,1,-2.502,0,0.135,3.23e-05,0.991,0.0515,0.133,119.883,audio_features,1MYYt7h6amcrauCOoso3Gx,spotify:track:1MYYt7h6amcrauCOoso3Gx,https://api.spotify.com/v1/tracks/1MYYt7h6amcrauCOoso3Gx,https://api.spotify.com/v1/audio-analysis/1MYYt7h6amcrauCOoso3Gx,70294,4\\r\\n0.414,0.959,7,-4.299,0,0.0378,2.31e-05,0.933,0.368,0.589,145.911,audio_features,3x2mJ2bjCIU70NrH49CtYR,spotify:track:3x2mJ2bjCIU70NrH49CtYR,https://api.spotify.com/v1/tracks/3x2mJ2bjCIU70NrH49CtYR,https://api.spotify.com/v1/audio-analysis/3x2mJ2bjCIU70NrH49CtYR,65306,4\\r\\n0.522,0.205,2,-7.986,1,0.0376,0.0534,0.235,0.0985,0.353,103.868,audio_features,1Pm3fq1SC6lUlNVBGZi3Em,spotify:track:1Pm3fq1SC6lUlNVBGZi3Em,https://api.spotify.com/v1/tracks/1Pm3fq1SC6lUlNVBGZi3Em,https://api.spotify.com/v1/audio-analysis/1Pm3fq1SC6lUlNVBGZi3Em,108532,4\\r\\n0.0849,0.956,2,-4.196,1,0.0805,5.24e-05,0.953,0.397,0.309,185.397,audio_features,1NXTEkIeRL59NK61QuhYUl,spotify:track:1NXTEkIeRL59NK61QuhYUl,https://api.spotify.com/v1/tracks/1NXTEkIeRL59NK61QuhYUl,https://api.spotify.com/v1/audio-analysis/1NXTEkIeRL59NK61QuhYUl,214269,3\\r\\n0.283,0.925,3,-4.7,1,0.111,0.000748,0.933,0.166,0.368,99.45,audio_features,3RGlJJFkWEavxeRQr9ivAd,spotify:track:3RGlJJFkWEavxeRQr9ivAd,https://api.spotify.com/v1/tracks/3RGlJJFkWEavxeRQr9ivAd,https://api.spotify.com/v1/audio-analysis/3RGlJJFkWEavxeRQr9ivAd,110219,4\\r\\n0.492,0.97,4,-5.677,0,0.0554,9.65e-06,0.891,0.162,0.556,120.005,audio_features,0e9hR1vTrzlUvFH5PgA9rY,spotify:track:0e9hR1vTrzlUvFH5PgA9rY,https://api.spotify.com/v1/tracks/0e9hR1vTrzlUvFH5PgA9rY,https://api.spotify.com/v1/audio-analysis/0e9hR1vTrzlUvFH5PgA9rY,207520,4\\r\\n0.493,0.969,2,-3.282,0,0.0463,0.201,0.655,0.247,0.34,170.581,audio_features,7dkbEHIMLoeuG4zXGmzhEH,spotify:track:7dkbEHIMLoeuG4zXGmzhEH,https://api.spotify.com/v1/tracks/7dkbEHIMLoeuG4zXGmzhEH,https://api.spotify.com/v1/audio-analysis/7dkbEHIMLoeuG4zXGmzhEH,226000,4\\r\\n0.536,0.458,2,-9.906,0,0.0385,0.893,0.495,0.106,0.259,170.113,audio_features,7nZnCjIJ8JigdMqJ36yRRm,spotify:track:7nZnCjIJ8JigdMqJ36yRRm,https://api.spotify.com/v1/tracks/7nZnCjIJ8JigdMqJ36yRRm,https://api.spotify.com/v1/audio-analysis/7nZnCjIJ8JigdMqJ36yRRm,104600,1\\r\\n0.638,0.49,4,-9.382,0,0.426,0.271,0.0,0.664,0.511,173.552,audio_features,2TK2KSrzXD6W01qjXVjNGh,spotify:track:2TK2KSrzXD6W01qjXVjNGh,https://api.spotify.com/v1/tracks/2TK2KSrzXD6W01qjXVjNGh,https://api.spotify.com/v1/audio-analysis/2TK2KSrzXD6W01qjXVjNGh,318215,4\\r\\n0.68,0.413,8,-9.41,1,0.492,0.177,0.0,0.205,0.383,158.576,audio_features,3nJYcY9yvKP8Oi2Ml8brXt,spotify:track:3nJYcY9yvKP8Oi2Ml8brXt,https://api.spotify.com/v1/tracks/3nJYcY9yvKP8Oi2Ml8brXt,https://api.spotify.com/v1/audio-analysis/3nJYcY9yvKP8Oi2Ml8brXt,321697,4\\r\\n0.609,0.435,11,-7.861,0,0.285,0.522,0.0,0.118,0.552,131.995,audio_features,4TTV7EcfroSLWzXRY6gLv6,spotify:track:4TTV7EcfroSLWzXRY6gLv6,https://api.spotify.com/v1/tracks/4TTV7EcfroSLWzXRY6gLv6,https://api.spotify.com/v1/audio-analysis/4TTV7EcfroSLWzXRY6gLv6,236738,4\\r\\n0.698,0.649,8,-6.764,1,0.415,0.15,0.0,0.0903,0.568,180.466,audio_features,4cxvludVmQxryrnx1m9FqL,spotify:track:4cxvludVmQxryrnx1m9FqL,https://api.spotify.com/v1/tracks/4cxvludVmQxryrnx1m9FqL,https://api.spotify.com/v1/audio-analysis/4cxvludVmQxryrnx1m9FqL,333154,4\\r\\n0.338,0.34,9,-12.049,0,0.0339,0.58,0.0032,0.116,0.197,82.433,audio_features,5CQ30WqJwcep0pYcV4AMNc,spotify:track:5CQ30WqJwcep0pYcV4AMNc,https://api.spotify.com/v1/tracks/5CQ30WqJwcep0pYcV4AMNc,https://api.spotify.com/v1/audio-analysis/5CQ30WqJwcep0pYcV4AMNc,482830,4\\r\\n0.54,0.423,6,-8.799,1,0.0283,0.294,0.0884,0.152,0.353,150.135,audio_features,1HZ3cUZUw5htSFmah1V8Ko,spotify:track:1HZ3cUZUw5htSFmah1V8Ko,https://api.spotify.com/v1/tracks/1HZ3cUZUw5htSFmah1V8Ko,https://api.spotify.com/v1/audio-analysis/1HZ3cUZUw5htSFmah1V8Ko,306040,4\\r\\n0.444,0.793,5,-5.326,0,0.0377,0.0107,0.000769,0.184,0.208,101.012,audio_features,43pmQcgxMMhJu1gPW2ZdNz,spotify:track:43pmQcgxMMhJu1gPW2ZdNz,https://api.spotify.com/v1/tracks/43pmQcgxMMhJu1gPW2ZdNz,https://api.spotify.com/v1/audio-analysis/43pmQcgxMMhJu1gPW2ZdNz,602080,3\\r\\n0.633,0.858,11,-7.42,0,0.0473,0.208,0.0112,0.0655,0.724,102.561,audio_features,6Vz7vzOpCwKeSQlfViibuY,spotify:track:6Vz7vzOpCwKeSQlfViibuY,https://api.spotify.com/v1/tracks/6Vz7vzOpCwKeSQlfViibuY,https://api.spotify.com/v1/audio-analysis/6Vz7vzOpCwKeSQlfViibuY,356520,4\\r\\n0.566,0.673,9,-10.814,1,0.306,0.565,1.13e-06,0.0438,0.583,114.385,audio_features,4sFbojhVXQv7dBC9PVCcRn,spotify:track:4sFbojhVXQv7dBC9PVCcRn,https://api.spotify.com/v1/tracks/4sFbojhVXQv7dBC9PVCcRn,https://api.spotify.com/v1/audio-analysis/4sFbojhVXQv7dBC9PVCcRn,377747,4\\r\\n0.63,0.616,1,-8.128,0,0.0309,0.463,0.0408,0.173,0.509,118.65,audio_features,1dv3ePjze9tPq2pk8eWJdR,spotify:track:1dv3ePjze9tPq2pk8eWJdR,https://api.spotify.com/v1/tracks/1dv3ePjze9tPq2pk8eWJdR,https://api.spotify.com/v1/audio-analysis/1dv3ePjze9tPq2pk8eWJdR,270773,4\\r\\n0.249,0.834,0,-8.21,1,0.0577,0.0738,9.48e-05,0.0924,0.338,118.223,audio_features,5EWPGh7jbTNO2wakv8LjUI,spotify:track:5EWPGh7jbTNO2wakv8LjUI,https://api.spotify.com/v1/tracks/5EWPGh7jbTNO2wakv8LjUI,https://api.spotify.com/v1/audio-analysis/5EWPGh7jbTNO2wakv8LjUI,547107,4\\r\\n0.419,0.677,4,-6.183,1,0.0343,0.00101,9.99e-05,0.211,0.684,127.678,audio_features,1GqlvSEtMx5xbGptxOTTyk,spotify:track:1GqlvSEtMx5xbGptxOTTyk,https://api.spotify.com/v1/tracks/1GqlvSEtMx5xbGptxOTTyk,https://api.spotify.com/v1/audio-analysis/1GqlvSEtMx5xbGptxOTTyk,303587,4\\r\\n0.435,0.657,5,-8.868,1,0.0545,0.00983,0.00748,0.0923,0.209,118.704,audio_features,39C5FuZ8C8M0QI8CrMsPkR,spotify:track:39C5FuZ8C8M0QI8CrMsPkR,https://api.spotify.com/v1/tracks/39C5FuZ8C8M0QI8CrMsPkR,https://api.spotify.com/v1/audio-analysis/39C5FuZ8C8M0QI8CrMsPkR,467640,4\\r\\n0.473,0.898,6,-4.797,0,0.0561,0.00783,0.0618,0.173,0.808,96.556,audio_features,4aVuWgvD0X63hcOCnZtNFA,spotify:track:4aVuWgvD0X63hcOCnZtNFA,https://api.spotify.com/v1/tracks/4aVuWgvD0X63hcOCnZtNFA,https://api.spotify.com/v1/audio-analysis/4aVuWgvD0X63hcOCnZtNFA,235547,4\\r\\n0.482,0.786,7,-5.735,1,0.032,0.00321,8.88e-05,0.446,0.793,126.755,audio_features,4DMKwE2E2iYDKY01C335Uw,spotify:track:4DMKwE2E2iYDKY01C335Uw,https://api.spotify.com/v1/tracks/4DMKwE2E2iYDKY01C335Uw,https://api.spotify.com/v1/audio-analysis/4DMKwE2E2iYDKY01C335Uw,323000,4\\r\\n0.414,0.404,0,-9.928,0,0.0499,0.271,0.0,0.3,0.224,71.105,audio_features,1AhDOtG9vPSOmsWgNW0BEY,spotify:track:1AhDOtG9vPSOmsWgNW0BEY,https://api.spotify.com/v1/tracks/1AhDOtG9vPSOmsWgNW0BEY,https://api.spotify.com/v1/audio-analysis/1AhDOtG9vPSOmsWgNW0BEY,354320,4\\r\\n0.597,0.605,7,-12.013,1,0.0255,0.181,0.000331,0.118,0.886,97.782,audio_features,4CJVkjo5WpmUAKp3R44LNb,spotify:track:4CJVkjo5WpmUAKp3R44LNb,https://api.spotify.com/v1/tracks/4CJVkjo5WpmUAKp3R44LNb,https://api.spotify.com/v1/audio-analysis/4CJVkjo5WpmUAKp3R44LNb,281147,4\\r\\n0.377,0.681,7,-8.039,1,0.0298,0.00088,0.0023,0.0504,0.285,108.789,audio_features,1QEEqeFIZktqIpPI4jSVSF,spotify:track:1QEEqeFIZktqIpPI4jSVSF,https://api.spotify.com/v1/tracks/1QEEqeFIZktqIpPI4jSVSF,https://api.spotify.com/v1/audio-analysis/1QEEqeFIZktqIpPI4jSVSF,285133,4\\r\\n0.48,0.536,2,-11.166,1,0.0427,0.488,4.22e-05,0.155,0.581,80.617,audio_features,2nVHqZbOGkKWzlcy1aMbE7,spotify:track:2nVHqZbOGkKWzlcy1aMbE7,https://api.spotify.com/v1/tracks/2nVHqZbOGkKWzlcy1aMbE7,https://api.spotify.com/v1/audio-analysis/2nVHqZbOGkKWzlcy1aMbE7,508200,3\\r\\n0.363,0.554,2,-10.784,0,0.0317,0.0885,0.973,0.261,0.408,72.429,audio_features,6MpMuAuLzFFfwB8QzWL1iZ,spotify:track:6MpMuAuLzFFfwB8QzWL1iZ,https://api.spotify.com/v1/tracks/6MpMuAuLzFFfwB8QzWL1iZ,https://api.spotify.com/v1/audio-analysis/6MpMuAuLzFFfwB8QzWL1iZ,241160,1\\r\\n0.454,0.91,6,-7.766,1,0.0448,0.0866,0.0996,0.116,0.629,125.116,audio_features,7o2CTH4ctstm8TNelqjb51,spotify:track:7o2CTH4ctstm8TNelqjb51,https://api.spotify.com/v1/tracks/7o2CTH4ctstm8TNelqjb51,https://api.spotify.com/v1/audio-analysis/7o2CTH4ctstm8TNelqjb51,354520,4\\r\\n0.64,0.663,0,-7.516,1,0.0374,0.201,0.00806,0.152,0.663,132.77,audio_features,4BP3uh0hFLFRb5cjsgLqDh,spotify:track:4BP3uh0hFLFRb5cjsgLqDh,https://api.spotify.com/v1/tracks/4BP3uh0hFLFRb5cjsgLqDh,https://api.spotify.com/v1/audio-analysis/4BP3uh0hFLFRb5cjsgLqDh,140773,4\\r\\n0.482,0.601,7,-12.846,1,0.0486,0.00853,0.000187,0.249,0.774,125.619,audio_features,0XIvZ82aDF7JiSi3ZE320u,spotify:track:0XIvZ82aDF7JiSi3ZE320u,https://api.spotify.com/v1/tracks/0XIvZ82aDF7JiSi3ZE320u,https://api.spotify.com/v1/audio-analysis/0XIvZ82aDF7JiSi3ZE320u,252493,4\\r\\n0.536,0.901,9,-7.211,1,0.0374,0.00145,0.0186,0.06,0.666,87.559,audio_features,3QZ7uX97s82HFYSmQUAN1D,spotify:track:3QZ7uX97s82HFYSmQUAN1D,https://api.spotify.com/v1/tracks/3QZ7uX97s82HFYSmQUAN1D,https://api.spotify.com/v1/audio-analysis/3QZ7uX97s82HFYSmQUAN1D,276880,4\\r\\n0.528,0.921,2,-7.64,1,0.0524,0.0174,0.000186,0.0472,0.298,144.368,audio_features,6UGHk2cmbDC1oidVjXcCKo,spotify:track:6UGHk2cmbDC1oidVjXcCKo,https://api.spotify.com/v1/tracks/6UGHk2cmbDC1oidVjXcCKo,https://api.spotify.com/v1/audio-analysis/6UGHk2cmbDC1oidVjXcCKo,370427,4\\r\\n0.51,0.919,7,-8.244,1,0.0593,0.00205,0.809,0.068,0.386,141.053,audio_features,3lpDrxUkr0tIe1kmJvdK7d,spotify:track:3lpDrxUkr0tIe1kmJvdK7d,https://api.spotify.com/v1/tracks/3lpDrxUkr0tIe1kmJvdK7d,https://api.spotify.com/v1/audio-analysis/3lpDrxUkr0tIe1kmJvdK7d,265840,4\\r\\n0.581,0.854,1,-8.485,0,0.0428,0.00197,0.0013,0.111,0.788,131.18,audio_features,0K6yUnIKNsFtfIpTgGtcHm,spotify:track:0K6yUnIKNsFtfIpTgGtcHm,https://api.spotify.com/v1/tracks/0K6yUnIKNsFtfIpTgGtcHm,https://api.spotify.com/v1/audio-analysis/0K6yUnIKNsFtfIpTgGtcHm,259840,4\\r\\n0.293,0.787,5,-8.841,1,0.0438,0.00774,0.496,0.392,0.139,165.307,audio_features,0hBby0yygBY1u3m6tSpZgC,spotify:track:0hBby0yygBY1u3m6tSpZgC,https://api.spotify.com/v1/tracks/0hBby0yygBY1u3m6tSpZgC,https://api.spotify.com/v1/audio-analysis/0hBby0yygBY1u3m6tSpZgC,658987,4\\r\\n0.528,0.557,2,-10.342,0,0.0315,0.245,0.0156,0.0958,0.357,121.732,audio_features,6cbBAD1AAYVaQR1cx89AZX,spotify:track:6cbBAD1AAYVaQR1cx89AZX,https://api.spotify.com/v1/tracks/6cbBAD1AAYVaQR1cx89AZX,https://api.spotify.com/v1/audio-analysis/6cbBAD1AAYVaQR1cx89AZX,285533,4\\r\\n0.603,0.851,0,-8.574,0,0.0584,0.0251,1.71e-05,0.318,0.627,143.218,audio_features,1k0GxoZYv3Yx5mNeXMOZN2,spotify:track:1k0GxoZYv3Yx5mNeXMOZN2,https://api.spotify.com/v1/tracks/1k0GxoZYv3Yx5mNeXMOZN2,https://api.spotify.com/v1/audio-analysis/1k0GxoZYv3Yx5mNeXMOZN2,286227,4\\r\\n0.622,0.537,0,-4.435,1,0.0335,0.261,0.0,0.0781,0.25,60.018,audio_features,74tqql9zP6JjF5hjkHHUXp,spotify:track:74tqql9zP6JjF5hjkHHUXp,https://api.spotify.com/v1/tracks/74tqql9zP6JjF5hjkHHUXp,https://api.spotify.com/v1/audio-analysis/74tqql9zP6JjF5hjkHHUXp,212716,4\\r\\n0.818,0.599,7,-2.976,0,0.04,0.285,0.0,0.0845,0.874,96.959,audio_features,4erhEGuOGQgjv3p1bccnpn,spotify:track:4erhEGuOGQgjv3p1bccnpn,https://api.spotify.com/v1/tracks/4erhEGuOGQgjv3p1bccnpn,https://api.spotify.com/v1/audio-analysis/4erhEGuOGQgjv3p1bccnpn,180007,4\\r\\n0.761,0.796,9,-4.277,1,0.298,0.309,0.0,0.136,0.892,102.249,audio_features,4hRA2rCPaCOpoEIq5qXaBz,spotify:track:4hRA2rCPaCOpoEIq5qXaBz,https://api.spotify.com/v1/tracks/4hRA2rCPaCOpoEIq5qXaBz,https://api.spotify.com/v1/audio-analysis/4hRA2rCPaCOpoEIq5qXaBz,204376,4\\r\\n0.739,0.706,9,-6.534,1,0.152,0.219,0.0,0.132,0.559,144.111,audio_features,1enx9LPZrXxaVVBxas5rRm,spotify:track:1enx9LPZrXxaVVBxas5rRm,https://api.spotify.com/v1/tracks/1enx9LPZrXxaVVBxas5rRm,https://api.spotify.com/v1/audio-analysis/1enx9LPZrXxaVVBxas5rRm,232867,4\\r\\n0.539,0.846,8,-3.192,1,0.0354,0.0063,1.68e-06,0.13,0.46,106.992,audio_features,0WNGsQ1oAuHzNTk8jivBKW,spotify:track:0WNGsQ1oAuHzNTk8jivBKW,https://api.spotify.com/v1/tracks/0WNGsQ1oAuHzNTk8jivBKW,https://api.spotify.com/v1/audio-analysis/0WNGsQ1oAuHzNTk8jivBKW,274097,4\\r\\n0.729,0.898,5,-1.029,1,0.0391,0.315,0.0,0.107,0.517,126.977,audio_features,24psBRmEw3kHjBGZfl1dmb,spotify:track:24psBRmEw3kHjBGZfl1dmb,https://api.spotify.com/v1/tracks/24psBRmEw3kHjBGZfl1dmb,https://api.spotify.com/v1/audio-analysis/24psBRmEw3kHjBGZfl1dmb,218475,4\\r\\n0.609,0.246,8,-8.449,1,0.0376,0.784,0.0,0.0825,0.371,123.773,audio_features,06L1apH8kLF47dbhZ4Zg9A,spotify:track:06L1apH8kLF47dbhZ4Zg9A,https://api.spotify.com/v1/tracks/06L1apH8kLF47dbhZ4Zg9A,https://api.spotify.com/v1/audio-analysis/06L1apH8kLF47dbhZ4Zg9A,288993,4\\r\\n0.763,0.658,5,-5.643,0,0.147,0.0258,0.0,0.0915,0.389,80.038,audio_features,2qWgqPdW1OiAP8KSBH1b93,spotify:track:2qWgqPdW1OiAP8KSBH1b93,https://api.spotify.com/v1/tracks/2qWgqPdW1OiAP8KSBH1b93,https://api.spotify.com/v1/audio-analysis/2qWgqPdW1OiAP8KSBH1b93,217861,4\\r\\n0.604,0.875,7,-1.995,0,0.0539,0.244,0.0,0.114,0.219,129.925,audio_features,2PTf3zh9UUsgdxQ5b0eXg8,spotify:track:2PTf3zh9UUsgdxQ5b0eXg8,https://api.spotify.com/v1/tracks/2PTf3zh9UUsgdxQ5b0eXg8,https://api.spotify.com/v1/audio-analysis/2PTf3zh9UUsgdxQ5b0eXg8,234107,4\\r\\n0.756,0.426,1,-8.75,0,0.0745,0.504,0.0394,0.0884,0.355,135.96,audio_features,7tIJDktakabGoHjwTTa35W,spotify:track:7tIJDktakabGoHjwTTa35W,https://api.spotify.com/v1/tracks/7tIJDktakabGoHjwTTa35W,https://api.spotify.com/v1/audio-analysis/7tIJDktakabGoHjwTTa35W,257647,4\\r\\n'"
      ]
     },
     "execution_count": 13,
     "metadata": {},
     "output_type": "execute_result"
    }
   ],
   "source": [
    "csv_data"
   ]
  },
  {
   "cell_type": "code",
   "execution_count": 12,
   "metadata": {},
   "outputs": [
    {
     "name": "stderr",
     "output_type": "stream",
     "text": [
      " 59%|█████▉    | 2003/3377 [2:23:00<1:37:43,  4.27s/it]Max Retries reached\n",
      " 59%|█████▉    | 2004/3377 [2:23:05<1:44:46,  4.58s/it]Max Retries reached\n",
      " 59%|█████▉    | 2005/3377 [2:23:11<1:51:56,  4.90s/it]Max Retries reached\n",
      " 59%|█████▉    | 2006/3377 [2:23:16<1:54:35,  5.02s/it]Max Retries reached\n",
      " 59%|█████▉    | 2007/3377 [2:23:21<1:56:30,  5.10s/it]Max Retries reached\n",
      " 59%|█████▉    | 2008/3377 [2:23:26<1:57:56,  5.17s/it]Max Retries reached\n",
      " 59%|█████▉    | 2009/3377 [2:23:32<2:00:50,  5.30s/it]Max Retries reached\n",
      " 60%|█████▉    | 2010/3377 [2:23:38<2:02:56,  5.40s/it]Max Retries reached\n",
      " 60%|█████▉    | 2011/3377 [2:23:44<2:06:28,  5.56s/it]Max Retries reached\n",
      " 60%|█████▉    | 2012/3377 [2:23:49<2:06:46,  5.57s/it]Max Retries reached\n",
      " 60%|█████▉    | 2013/3377 [2:23:55<2:09:04,  5.68s/it]Max Retries reached\n",
      " 60%|█████▉    | 2014/3377 [2:24:01<2:10:42,  5.75s/it]Max Retries reached\n",
      " 60%|█████▉    | 2015/3377 [2:24:07<2:11:44,  5.80s/it]Max Retries reached\n",
      " 60%|█████▉    | 2016/3377 [2:24:12<2:08:19,  5.66s/it]Max Retries reached\n",
      " 60%|█████▉    | 2017/3377 [2:24:18<2:05:50,  5.55s/it]Max Retries reached\n",
      " 60%|█████▉    | 2018/3377 [2:24:23<2:06:14,  5.57s/it]Max Retries reached\n",
      " 60%|█████▉    | 2019/3377 [2:24:29<2:04:21,  5.49s/it]Max Retries reached\n",
      " 60%|█████▉    | 2020/3377 [2:24:34<2:05:09,  5.53s/it]Max Retries reached\n",
      " 60%|█████▉    | 2021/3377 [2:24:40<2:05:37,  5.56s/it]Max Retries reached\n",
      " 60%|█████▉    | 2022/3377 [2:24:45<2:05:56,  5.58s/it]Max Retries reached\n",
      " 60%|█████▉    | 2023/3377 [2:24:51<2:04:02,  5.50s/it]Max Retries reached\n",
      " 60%|█████▉    | 2024/3377 [2:24:56<2:02:42,  5.44s/it]Max Retries reached\n",
      " 60%|█████▉    | 2025/3377 [2:25:02<2:03:46,  5.49s/it]Max Retries reached\n",
      " 60%|█████▉    | 2026/3377 [2:25:08<2:06:30,  5.62s/it]Max Retries reached\n",
      " 60%|██████    | 2027/3377 [2:25:14<2:08:25,  5.71s/it]Max Retries reached\n",
      " 60%|██████    | 2028/3377 [2:25:19<2:05:37,  5.59s/it]Max Retries reached\n",
      " 60%|██████    | 2029/3377 [2:25:25<2:07:51,  5.69s/it]Max Retries reached\n",
      " 60%|██████    | 2030/3377 [2:25:30<2:05:23,  5.59s/it]Max Retries reached\n",
      " 60%|██████    | 2031/3377 [2:25:35<2:03:27,  5.50s/it]Max Retries reached\n",
      " 60%|██████    | 2032/3377 [2:25:41<2:01:59,  5.44s/it]Max Retries reached\n",
      " 60%|██████    | 2033/3377 [2:25:46<2:01:00,  5.40s/it]Max Retries reached\n",
      " 60%|██████    | 2034/3377 [2:25:52<2:02:20,  5.47s/it]Max Retries reached\n",
      " 60%|██████    | 2035/3377 [2:25:57<2:01:10,  5.42s/it]Max Retries reached\n",
      " 60%|██████    | 2036/3377 [2:26:03<2:04:33,  5.57s/it]Max Retries reached\n",
      " 60%|██████    | 2037/3377 [2:26:08<2:02:40,  5.49s/it]Max Retries reached\n",
      " 60%|██████    | 2038/3377 [2:26:14<2:05:34,  5.63s/it]Max Retries reached\n",
      " 60%|██████    | 2039/3377 [2:26:19<2:03:18,  5.53s/it]Max Retries reached\n",
      " 60%|██████    | 2040/3377 [2:26:25<2:01:46,  5.46s/it]Max Retries reached\n",
      " 60%|██████    | 2041/3377 [2:26:30<2:00:37,  5.42s/it]Max Retries reached\n",
      " 60%|██████    | 2042/3377 [2:26:36<2:04:04,  5.58s/it]Max Retries reached\n",
      " 60%|██████    | 2043/3377 [2:26:42<2:06:22,  5.68s/it]Max Retries reached\n",
      " 61%|██████    | 2044/3377 [2:26:47<2:03:47,  5.57s/it]Max Retries reached\n",
      " 61%|██████    | 2045/3377 [2:26:53<2:01:54,  5.49s/it]Max Retries reached\n",
      " 61%|██████    | 2046/3377 [2:26:58<2:00:37,  5.44s/it]Max Retries reached\n",
      " 61%|██████    | 2047/3377 [2:27:03<2:01:45,  5.49s/it]Max Retries reached\n",
      " 61%|██████    | 2048/3377 [2:27:09<2:00:26,  5.44s/it]Max Retries reached\n",
      " 61%|██████    | 2049/3377 [2:27:14<1:59:34,  5.40s/it]Max Retries reached\n",
      " 61%|██████    | 2050/3377 [2:27:20<2:02:57,  5.56s/it]Max Retries reached\n",
      " 61%|██████    | 2051/3377 [2:27:26<2:03:22,  5.58s/it]Max Retries reached\n",
      " 61%|██████    | 2052/3377 [2:27:31<2:01:30,  5.50s/it]Max Retries reached\n",
      " 61%|██████    | 2053/3377 [2:27:36<2:00:10,  5.45s/it]Max Retries reached\n",
      " 61%|██████    | 2054/3377 [2:27:42<1:59:07,  5.40s/it]Max Retries reached\n",
      " 61%|██████    | 2055/3377 [2:27:47<1:58:24,  5.37s/it]Max Retries reached\n",
      " 61%|██████    | 2056/3377 [2:27:52<1:57:57,  5.36s/it]Max Retries reached\n",
      " 61%|██████    | 2057/3377 [2:27:58<1:57:35,  5.35s/it]Max Retries reached\n",
      " 61%|██████    | 2058/3377 [2:28:03<1:59:16,  5.43s/it]Max Retries reached\n",
      " 61%|██████    | 2059/3377 [2:28:09<2:04:33,  5.67s/it]Max Retries reached\n",
      " 61%|██████    | 2060/3377 [2:28:15<2:05:15,  5.71s/it]Max Retries reached\n",
      " 61%|██████    | 2061/3377 [2:28:21<2:04:32,  5.68s/it]Max Retries reached\n",
      " 61%|██████    | 2062/3377 [2:28:27<2:06:00,  5.75s/it]Max Retries reached\n",
      " 61%|██████    | 2063/3377 [2:28:32<2:02:57,  5.61s/it]Max Retries reached\n",
      " 61%|██████    | 2064/3377 [2:28:37<2:00:54,  5.53s/it]Max Retries reached\n",
      " 61%|██████    | 2065/3377 [2:28:43<1:59:28,  5.46s/it]Max Retries reached\n",
      " 61%|██████    | 2066/3377 [2:28:48<1:58:23,  5.42s/it]Max Retries reached\n",
      " 61%|██████    | 2067/3377 [2:28:53<1:57:32,  5.38s/it]Max Retries reached\n",
      " 61%|██████    | 2068/3377 [2:28:59<1:57:00,  5.36s/it]Max Retries reached\n",
      " 61%|██████▏   | 2069/3377 [2:29:04<1:56:31,  5.34s/it]Max Retries reached\n",
      " 61%|██████▏   | 2070/3377 [2:29:09<1:58:06,  5.42s/it]Max Retries reached\n",
      " 61%|██████▏   | 2071/3377 [2:29:15<1:59:21,  5.48s/it]Max Retries reached\n",
      " 61%|██████▏   | 2072/3377 [2:29:21<2:00:00,  5.52s/it]Max Retries reached\n",
      " 61%|██████▏   | 2073/3377 [2:29:27<2:02:35,  5.64s/it]Max Retries reached\n",
      " 61%|██████▏   | 2074/3377 [2:29:32<2:02:18,  5.63s/it]Max Retries reached\n",
      " 61%|██████▏   | 2075/3377 [2:29:38<2:00:05,  5.53s/it]Max Retries reached\n",
      " 61%|██████▏   | 2076/3377 [2:29:43<2:02:34,  5.65s/it]Max Retries reached\n",
      " 62%|██████▏   | 2077/3377 [2:29:49<2:00:16,  5.55s/it]Max Retries reached\n",
      " 62%|██████▏   | 2078/3377 [2:29:54<2:00:38,  5.57s/it]Max Retries reached\n",
      " 62%|██████▏   | 2079/3377 [2:30:00<1:58:54,  5.50s/it]Max Retries reached\n",
      " 62%|██████▏   | 2080/3377 [2:30:06<2:01:41,  5.63s/it]Max Retries reached\n",
      " 62%|██████▏   | 2081/3377 [2:30:12<2:03:34,  5.72s/it]Max Retries reached\n",
      " 62%|██████▏   | 2082/3377 [2:30:17<2:02:49,  5.69s/it]Max Retries reached\n",
      " 62%|██████▏   | 2083/3377 [2:30:23<2:00:16,  5.58s/it]Max Retries reached\n",
      " 62%|██████▏   | 2084/3377 [2:30:28<2:00:25,  5.59s/it]Max Retries reached\n",
      " 62%|██████▏   | 2085/3377 [2:30:33<1:58:36,  5.51s/it]Max Retries reached\n",
      " 62%|██████▏   | 2086/3377 [2:30:39<1:59:16,  5.54s/it]Max Retries reached\n",
      " 62%|██████▏   | 2087/3377 [2:30:44<1:57:41,  5.47s/it]Max Retries reached\n",
      " 62%|██████▏   | 2088/3377 [2:30:50<1:56:32,  5.42s/it]Max Retries reached\n",
      " 62%|██████▏   | 2089/3377 [2:30:55<1:57:44,  5.49s/it]Max Retries reached\n",
      " 62%|██████▏   | 2090/3377 [2:31:01<1:58:30,  5.52s/it]Max Retries reached\n",
      " 62%|██████▏   | 2091/3377 [2:31:07<2:00:58,  5.64s/it]Max Retries reached\n",
      " 62%|██████▏   | 2092/3377 [2:31:13<2:00:39,  5.63s/it]Max Retries reached\n",
      " 62%|██████▏   | 2093/3377 [2:31:18<2:00:29,  5.63s/it]Max Retries reached\n",
      " 62%|██████▏   | 2094/3377 [2:31:23<1:58:21,  5.53s/it]Max Retries reached\n",
      " 62%|██████▏   | 2095/3377 [2:31:29<1:58:51,  5.56s/it]Max Retries reached\n",
      " 62%|██████▏   | 2096/3377 [2:31:35<2:01:03,  5.67s/it]Max Retries reached\n",
      " 62%|██████▏   | 2097/3377 [2:31:40<1:58:40,  5.56s/it]Max Retries reached\n",
      " 62%|██████▏   | 2098/3377 [2:31:46<2:00:50,  5.67s/it]Max Retries reached\n",
      " 62%|██████▏   | 2099/3377 [2:31:52<1:58:24,  5.56s/it]Max Retries reached\n",
      " 62%|██████▏   | 2100/3377 [2:31:57<1:56:47,  5.49s/it]Max Retries reached\n",
      " 62%|██████▏   | 2101/3377 [2:32:02<1:55:29,  5.43s/it]Max Retries reached\n",
      " 62%|██████▏   | 2102/3377 [2:32:07<1:54:35,  5.39s/it]Max Retries reached\n",
      " 62%|██████▏   | 2103/3377 [2:32:13<1:53:57,  5.37s/it]Max Retries reached\n",
      " 62%|██████▏   | 2104/3377 [2:32:18<1:53:27,  5.35s/it]Max Retries reached\n",
      " 62%|██████▏   | 2105/3377 [2:32:24<1:55:03,  5.43s/it]Max Retries reached\n",
      " 62%|██████▏   | 2106/3377 [2:32:29<1:54:13,  5.39s/it]Max Retries reached\n",
      " 62%|██████▏   | 2107/3377 [2:32:35<1:55:30,  5.46s/it]Max Retries reached\n",
      " 62%|██████▏   | 2108/3377 [2:32:40<1:58:17,  5.59s/it]Max Retries reached\n",
      " 62%|██████▏   | 2109/3377 [2:32:46<2:00:15,  5.69s/it]Max Retries reached\n",
      " 62%|██████▏   | 2110/3377 [2:32:52<1:59:48,  5.67s/it]Max Retries reached\n",
      " 63%|██████▎   | 2111/3377 [2:32:58<2:01:21,  5.75s/it]Max Retries reached\n",
      " 63%|██████▎   | 2112/3377 [2:33:04<2:02:24,  5.81s/it]Max Retries reached\n",
      " 63%|██████▎   | 2113/3377 [2:33:09<1:59:08,  5.66s/it]Max Retries reached\n",
      " 63%|██████▎   | 2114/3377 [2:33:15<1:58:47,  5.64s/it]Max Retries reached\n",
      " 63%|██████▎   | 2115/3377 [2:33:20<1:56:25,  5.54s/it]Max Retries reached\n",
      " 63%|██████▎   | 2116/3377 [2:33:25<1:54:59,  5.47s/it]Max Retries reached\n",
      " 63%|██████▎   | 2117/3377 [2:33:31<1:53:42,  5.41s/it]Max Retries reached\n",
      " 63%|██████▎   | 2118/3377 [2:33:36<1:54:04,  5.44s/it]Max Retries reached\n",
      " 63%|██████▎   | 2119/3377 [2:33:42<1:53:18,  5.40s/it]Max Retries reached\n",
      " 63%|██████▎   | 2120/3377 [2:33:47<1:56:26,  5.56s/it]Max Retries reached\n",
      " 63%|██████▎   | 2121/3377 [2:33:53<1:54:48,  5.48s/it]Max Retries reached\n",
      " 63%|██████▎   | 2122/3377 [2:33:58<1:55:33,  5.53s/it]Max Retries reached\n",
      " 63%|██████▎   | 2123/3377 [2:34:04<1:54:08,  5.46s/it]Max Retries reached\n",
      " 63%|██████▎   | 2124/3377 [2:34:09<1:53:03,  5.41s/it]Max Retries reached\n",
      " 63%|██████▎   | 2125/3377 [2:34:14<1:52:14,  5.38s/it]Max Retries reached\n",
      " 63%|██████▎   | 2126/3377 [2:34:20<1:51:43,  5.36s/it]Max Retries reached\n",
      " 63%|██████▎   | 2127/3377 [2:34:25<1:51:21,  5.35s/it]Max Retries reached\n",
      " 63%|██████▎   | 2128/3377 [2:34:30<1:51:03,  5.33s/it]Max Retries reached\n",
      " 63%|██████▎   | 2129/3377 [2:34:36<1:52:39,  5.42s/it]Max Retries reached\n",
      " 63%|██████▎   | 2130/3377 [2:34:41<1:51:53,  5.38s/it]Max Retries reached\n",
      " 63%|██████▎   | 2131/3377 [2:34:46<1:51:23,  5.36s/it]Max Retries reached\n",
      " 63%|██████▎   | 2132/3377 [2:34:52<1:52:57,  5.44s/it]Max Retries reached\n",
      " 63%|██████▎   | 2133/3377 [2:34:58<1:53:57,  5.50s/it]Max Retries reached\n",
      " 63%|██████▎   | 2134/3377 [2:35:03<1:54:36,  5.53s/it]Max Retries reached\n",
      " 63%|██████▎   | 2135/3377 [2:35:09<1:54:59,  5.55s/it]Max Retries reached\n",
      " 63%|██████▎   | 2136/3377 [2:35:14<1:53:24,  5.48s/it]Max Retries reached\n",
      " 63%|██████▎   | 2137/3377 [2:35:20<1:52:15,  5.43s/it]Max Retries reached\n",
      " 63%|██████▎   | 2138/3377 [2:35:25<1:51:26,  5.40s/it]Max Retries reached\n",
      " 63%|██████▎   | 2139/3377 [2:35:30<1:50:48,  5.37s/it]Max Retries reached\n",
      " 63%|██████▎   | 2140/3377 [2:35:36<1:54:07,  5.54s/it]Max Retries reached\n",
      " 63%|██████▎   | 2141/3377 [2:35:41<1:52:38,  5.47s/it]Max Retries reached\n",
      " 63%|██████▎   | 2142/3377 [2:35:47<1:53:24,  5.51s/it]Max Retries reached\n",
      " 63%|██████▎   | 2143/3377 [2:35:53<1:53:58,  5.54s/it]Max Retries reached\n",
      " 63%|██████▎   | 2144/3377 [2:35:59<1:56:18,  5.66s/it]Max Retries reached\n",
      " 64%|██████▎   | 2145/3377 [2:36:04<1:54:00,  5.55s/it]Max Retries reached\n",
      " 64%|██████▎   | 2146/3377 [2:36:09<1:52:25,  5.48s/it]Max Retries reached\n",
      " 64%|██████▎   | 2147/3377 [2:36:15<1:53:07,  5.52s/it]Max Retries reached\n",
      " 64%|██████▎   | 2148/3377 [2:36:20<1:53:42,  5.55s/it]Max Retries reached\n",
      " 64%|██████▎   | 2149/3377 [2:36:26<1:54:00,  5.57s/it]Max Retries reached\n",
      " 64%|██████▎   | 2150/3377 [2:36:31<1:52:20,  5.49s/it]Max Retries reached\n",
      " 64%|██████▎   | 2151/3377 [2:36:37<1:51:07,  5.44s/it]Max Retries reached\n",
      " 64%|██████▎   | 2152/3377 [2:36:42<1:50:13,  5.40s/it]Max Retries reached\n",
      " 64%|██████▍   | 2153/3377 [2:36:47<1:49:36,  5.37s/it]Max Retries reached\n",
      " 64%|██████▍   | 2154/3377 [2:36:53<1:52:50,  5.54s/it]Max Retries reached\n",
      " 64%|██████▍   | 2155/3377 [2:36:59<1:51:22,  5.47s/it]Max Retries reached\n",
      " 64%|██████▍   | 2156/3377 [2:37:04<1:50:20,  5.42s/it]Max Retries reached\n",
      " 64%|██████▍   | 2157/3377 [2:37:10<1:53:18,  5.57s/it]Max Retries reached\n",
      " 64%|██████▍   | 2158/3377 [2:37:15<1:51:35,  5.49s/it]Max Retries reached\n",
      " 64%|██████▍   | 2159/3377 [2:37:20<1:50:25,  5.44s/it]Max Retries reached\n",
      " 64%|██████▍   | 2160/3377 [2:37:26<1:49:32,  5.40s/it]Max Retries reached\n",
      " 64%|██████▍   | 2161/3377 [2:37:31<1:50:45,  5.47s/it]Max Retries reached\n",
      " 64%|██████▍   | 2162/3377 [2:37:37<1:49:40,  5.42s/it]Max Retries reached\n",
      " 64%|██████▍   | 2163/3377 [2:37:42<1:48:54,  5.38s/it]Max Retries reached\n",
      " 64%|██████▍   | 2164/3377 [2:37:47<1:48:23,  5.36s/it]Max Retries reached\n",
      " 64%|██████▍   | 2165/3377 [2:37:53<1:47:57,  5.34s/it]Max Retries reached\n",
      " 64%|██████▍   | 2166/3377 [2:37:58<1:49:32,  5.43s/it]Max Retries reached\n",
      " 64%|██████▍   | 2167/3377 [2:38:04<1:50:38,  5.49s/it]Max Retries reached\n",
      " 64%|██████▍   | 2168/3377 [2:38:09<1:51:21,  5.53s/it]Max Retries reached\n",
      " 64%|██████▍   | 2169/3377 [2:38:15<1:51:54,  5.56s/it]Max Retries reached\n",
      " 64%|██████▍   | 2170/3377 [2:38:21<1:52:52,  5.61s/it]Max Retries reached\n",
      " 64%|██████▍   | 2171/3377 [2:38:26<1:51:00,  5.52s/it]Max Retries reached\n",
      " 64%|██████▍   | 2172/3377 [2:38:31<1:49:39,  5.46s/it]Max Retries reached\n",
      " 64%|██████▍   | 2173/3377 [2:38:37<1:48:39,  5.41s/it]Max Retries reached\n",
      " 64%|██████▍   | 2174/3377 [2:38:42<1:47:56,  5.38s/it]Max Retries reached\n",
      " 64%|██████▍   | 2175/3377 [2:38:48<1:49:16,  5.45s/it]Max Retries reached\n",
      " 64%|██████▍   | 2176/3377 [2:38:53<1:48:17,  5.41s/it]Max Retries reached\n",
      " 64%|██████▍   | 2177/3377 [2:38:58<1:47:36,  5.38s/it]Max Retries reached\n",
      " 64%|██████▍   | 2178/3377 [2:39:04<1:47:08,  5.36s/it]Max Retries reached\n",
      " 65%|██████▍   | 2179/3377 [2:39:09<1:46:47,  5.35s/it]Max Retries reached\n",
      " 65%|██████▍   | 2180/3377 [2:39:14<1:46:32,  5.34s/it]Max Retries reached\n",
      " 65%|██████▍   | 2181/3377 [2:39:20<1:46:14,  5.33s/it]Max Retries reached\n",
      " 65%|██████▍   | 2182/3377 [2:39:25<1:46:01,  5.32s/it]Max Retries reached\n",
      " 65%|██████▍   | 2183/3377 [2:39:30<1:45:49,  5.32s/it]Max Retries reached\n",
      " 65%|██████▍   | 2184/3377 [2:39:35<1:45:39,  5.31s/it]Max Retries reached\n",
      " 65%|██████▍   | 2185/3377 [2:39:41<1:45:29,  5.31s/it]Max Retries reached\n",
      " 65%|██████▍   | 2186/3377 [2:39:46<1:47:16,  5.40s/it]Max Retries reached\n",
      " 65%|██████▍   | 2187/3377 [2:39:52<1:46:35,  5.37s/it]Max Retries reached\n",
      " 65%|██████▍   | 2188/3377 [2:39:57<1:47:58,  5.45s/it]Max Retries reached\n",
      " 65%|██████▍   | 2189/3377 [2:40:03<1:47:00,  5.40s/it]Max Retries reached\n",
      " 65%|██████▍   | 2190/3377 [2:40:08<1:46:22,  5.38s/it]Max Retries reached\n",
      " 65%|██████▍   | 2191/3377 [2:40:13<1:45:53,  5.36s/it]Max Retries reached\n",
      " 65%|██████▍   | 2192/3377 [2:40:19<1:45:33,  5.34s/it]Max Retries reached\n",
      " 65%|██████▍   | 2193/3377 [2:40:24<1:45:14,  5.33s/it]Max Retries reached\n",
      " 65%|██████▍   | 2194/3377 [2:40:30<1:48:36,  5.51s/it]Max Retries reached\n",
      " 65%|██████▍   | 2195/3377 [2:40:35<1:47:20,  5.45s/it]Max Retries reached\n",
      " 65%|██████▌   | 2196/3377 [2:40:40<1:46:26,  5.41s/it]Max Retries reached\n",
      " 65%|██████▌   | 2197/3377 [2:40:46<1:45:48,  5.38s/it]Max Retries reached\n",
      " 65%|██████▌   | 2198/3377 [2:40:51<1:45:20,  5.36s/it]Max Retries reached\n",
      " 65%|██████▌   | 2199/3377 [2:40:56<1:44:59,  5.35s/it]Max Retries reached\n",
      " 65%|██████▌   | 2200/3377 [2:41:02<1:46:29,  5.43s/it]Max Retries reached\n",
      " 65%|██████▌   | 2201/3377 [2:41:08<1:47:29,  5.48s/it]Max Retries reached\n",
      " 65%|██████▌   | 2202/3377 [2:41:13<1:46:21,  5.43s/it]Max Retries reached\n",
      " 65%|██████▌   | 2203/3377 [2:41:18<1:45:34,  5.40s/it]Max Retries reached\n",
      " 65%|██████▌   | 2204/3377 [2:41:23<1:45:00,  5.37s/it]Max Retries reached\n",
      " 65%|██████▌   | 2205/3377 [2:41:29<1:46:23,  5.45s/it]Max Retries reached\n",
      " 65%|██████▌   | 2206/3377 [2:41:35<1:47:21,  5.50s/it]Max Retries reached\n",
      " 65%|██████▌   | 2207/3377 [2:41:40<1:47:58,  5.54s/it]Max Retries reached\n",
      " 65%|██████▌   | 2208/3377 [2:41:46<1:46:36,  5.47s/it]Max Retries reached\n",
      " 65%|██████▌   | 2209/3377 [2:41:51<1:45:34,  5.42s/it]Max Retries reached\n",
      " 65%|██████▌   | 2210/3377 [2:41:57<1:46:37,  5.48s/it]Max Retries reached\n",
      " 65%|██████▌   | 2211/3377 [2:42:02<1:45:33,  5.43s/it]Max Retries reached\n",
      " 66%|██████▌   | 2212/3377 [2:42:08<1:46:32,  5.49s/it]Max Retries reached\n",
      " 66%|██████▌   | 2213/3377 [2:42:13<1:45:24,  5.43s/it]Max Retries reached\n",
      " 66%|██████▌   | 2214/3377 [2:42:18<1:46:22,  5.49s/it]Max Retries reached\n",
      " 66%|██████▌   | 2215/3377 [2:42:24<1:47:03,  5.53s/it]Max Retries reached\n",
      " 66%|██████▌   | 2216/3377 [2:42:30<1:49:20,  5.65s/it]Max Retries reached\n",
      " 66%|██████▌   | 2217/3377 [2:42:36<1:49:05,  5.64s/it]Max Retries reached\n",
      " 66%|██████▌   | 2218/3377 [2:42:42<1:50:34,  5.72s/it]Max Retries reached\n",
      " 66%|██████▌   | 2219/3377 [2:42:47<1:49:51,  5.69s/it]Max Retries reached\n",
      " 66%|██████▌   | 2220/3377 [2:42:53<1:49:18,  5.67s/it]Max Retries reached\n",
      " 66%|██████▌   | 2221/3377 [2:42:58<1:47:07,  5.56s/it]Max Retries reached\n",
      " 66%|██████▌   | 2222/3377 [2:43:04<1:47:23,  5.58s/it]Max Retries reached\n",
      " 66%|██████▌   | 2223/3377 [2:43:09<1:45:45,  5.50s/it]Max Retries reached\n",
      " 66%|██████▌   | 2224/3377 [2:43:14<1:44:34,  5.44s/it]Max Retries reached\n",
      " 66%|██████▌   | 2225/3377 [2:43:20<1:45:31,  5.50s/it]Max Retries reached\n",
      " 66%|██████▌   | 2226/3377 [2:43:25<1:44:23,  5.44s/it]Max Retries reached\n",
      " 66%|██████▌   | 2227/3377 [2:43:31<1:43:33,  5.40s/it]Max Retries reached\n",
      " 66%|██████▌   | 2228/3377 [2:43:36<1:42:56,  5.38s/it]Max Retries reached\n",
      " 66%|██████▌   | 2229/3377 [2:43:42<1:44:12,  5.45s/it]Max Retries reached\n",
      " 66%|██████▌   | 2230/3377 [2:43:47<1:45:05,  5.50s/it]Max Retries reached\n",
      " 66%|██████▌   | 2231/3377 [2:43:52<1:43:56,  5.44s/it]Max Retries reached\n",
      " 66%|██████▌   | 2232/3377 [2:43:58<1:43:04,  5.40s/it]Max Retries reached\n",
      " 66%|██████▌   | 2233/3377 [2:44:03<1:42:27,  5.37s/it]Max Retries reached\n",
      " 66%|██████▌   | 2234/3377 [2:44:08<1:41:59,  5.35s/it]Max Retries reached\n",
      " 66%|██████▌   | 2235/3377 [2:44:14<1:43:27,  5.44s/it]Max Retries reached\n",
      " 66%|██████▌   | 2236/3377 [2:44:19<1:42:40,  5.40s/it]Max Retries reached\n",
      " 66%|██████▌   | 2237/3377 [2:44:25<1:43:49,  5.46s/it]Max Retries reached\n",
      " 66%|██████▋   | 2238/3377 [2:44:31<1:44:35,  5.51s/it]Max Retries reached\n",
      " 66%|██████▋   | 2239/3377 [2:44:36<1:43:22,  5.45s/it]Max Retries reached\n",
      " 66%|██████▋   | 2240/3377 [2:44:41<1:42:28,  5.41s/it]Max Retries reached\n",
      " 66%|██████▋   | 2241/3377 [2:44:46<1:41:48,  5.38s/it]Max Retries reached\n",
      " 66%|██████▋   | 2242/3377 [2:44:52<1:41:19,  5.36s/it]Max Retries reached\n",
      " 66%|██████▋   | 2243/3377 [2:44:57<1:42:45,  5.44s/it]Max Retries reached\n",
      " 66%|██████▋   | 2244/3377 [2:45:03<1:41:53,  5.40s/it]Max Retries reached\n",
      " 66%|██████▋   | 2245/3377 [2:45:08<1:42:59,  5.46s/it]Max Retries reached\n",
      " 67%|██████▋   | 2246/3377 [2:45:14<1:42:03,  5.41s/it]Max Retries reached\n",
      " 67%|██████▋   | 2247/3377 [2:45:19<1:41:21,  5.38s/it]Max Retries reached\n",
      " 67%|██████▋   | 2248/3377 [2:45:24<1:40:49,  5.36s/it]Max Retries reached\n",
      " 67%|██████▋   | 2249/3377 [2:45:30<1:42:08,  5.43s/it]Max Retries reached\n",
      " 67%|██████▋   | 2250/3377 [2:45:35<1:43:03,  5.49s/it]Max Retries reached\n",
      " 67%|██████▋   | 2251/3377 [2:45:41<1:41:56,  5.43s/it]Max Retries reached\n",
      " 67%|██████▋   | 2252/3377 [2:45:46<1:41:12,  5.40s/it]Max Retries reached\n",
      " 67%|██████▋   | 2253/3377 [2:45:51<1:40:37,  5.37s/it]Max Retries reached\n",
      " 67%|██████▋   | 2254/3377 [2:45:57<1:40:11,  5.35s/it]Max Retries reached\n",
      " 67%|██████▋   | 2255/3377 [2:46:03<1:43:20,  5.53s/it]Max Retries reached\n",
      " 67%|██████▋   | 2256/3377 [2:46:08<1:43:49,  5.56s/it]Max Retries reached\n",
      " 67%|██████▋   | 2257/3377 [2:46:14<1:44:04,  5.58s/it]Max Retries reached\n",
      " 67%|██████▋   | 2258/3377 [2:46:19<1:42:28,  5.50s/it]Max Retries reached\n",
      " 67%|██████▋   | 2259/3377 [2:46:24<1:41:22,  5.44s/it]Max Retries reached\n",
      " 67%|██████▋   | 2260/3377 [2:46:30<1:40:34,  5.40s/it]Max Retries reached\n",
      " 67%|██████▋   | 2261/3377 [2:46:35<1:41:43,  5.47s/it]Max Retries reached\n",
      " 67%|██████▋   | 2262/3377 [2:46:41<1:40:43,  5.42s/it]Max Retries reached\n",
      " 67%|██████▋   | 2263/3377 [2:46:46<1:40:04,  5.39s/it]Max Retries reached\n",
      " 67%|██████▋   | 2264/3377 [2:46:52<1:41:15,  5.46s/it]Max Retries reached\n",
      " 67%|██████▋   | 2265/3377 [2:46:57<1:40:20,  5.41s/it]Max Retries reached\n",
      " 67%|██████▋   | 2266/3377 [2:47:02<1:39:40,  5.38s/it]Max Retries reached\n",
      " 67%|██████▋   | 2267/3377 [2:47:08<1:39:08,  5.36s/it]Max Retries reached\n",
      " 67%|██████▋   | 2268/3377 [2:47:13<1:38:43,  5.34s/it]Max Retries reached\n",
      " 67%|██████▋   | 2269/3377 [2:47:18<1:40:08,  5.42s/it]Max Retries reached\n",
      " 67%|██████▋   | 2270/3377 [2:47:24<1:39:27,  5.39s/it]Max Retries reached\n",
      " 67%|██████▋   | 2271/3377 [2:47:29<1:38:54,  5.37s/it]Max Retries reached\n",
      " 67%|██████▋   | 2272/3377 [2:47:34<1:38:30,  5.35s/it]Max Retries reached\n",
      " 67%|██████▋   | 2273/3377 [2:47:40<1:39:55,  5.43s/it]Max Retries reached\n",
      " 67%|██████▋   | 2274/3377 [2:47:46<1:40:57,  5.49s/it]Max Retries reached\n",
      " 67%|██████▋   | 2275/3377 [2:47:51<1:41:33,  5.53s/it]Max Retries reached\n",
      " 67%|██████▋   | 2276/3377 [2:47:57<1:40:16,  5.46s/it]Max Retries reached\n",
      " 67%|██████▋   | 2277/3377 [2:48:02<1:41:01,  5.51s/it]Max Retries reached\n",
      " 67%|██████▋   | 2278/3377 [2:48:08<1:41:28,  5.54s/it]Max Retries reached\n",
      " 67%|██████▋   | 2279/3377 [2:48:13<1:40:06,  5.47s/it]Max Retries reached\n",
      " 68%|██████▊   | 2280/3377 [2:48:18<1:39:09,  5.42s/it]Max Retries reached\n",
      " 68%|██████▊   | 2281/3377 [2:48:25<1:42:26,  5.61s/it]Max Retries reached\n",
      " 68%|██████▊   | 2282/3377 [2:48:30<1:40:44,  5.52s/it]Max Retries reached\n",
      " 68%|██████▊   | 2283/3377 [2:48:35<1:39:31,  5.46s/it]Max Retries reached\n",
      " 68%|██████▊   | 2284/3377 [2:48:41<1:40:20,  5.51s/it]Max Retries reached\n",
      " 68%|██████▊   | 2285/3377 [2:48:46<1:39:10,  5.45s/it]Max Retries reached\n",
      " 68%|██████▊   | 2286/3377 [2:48:51<1:38:19,  5.41s/it]Max Retries reached\n",
      " 68%|██████▊   | 2287/3377 [2:48:57<1:37:42,  5.38s/it]Max Retries reached\n",
      " 68%|██████▊   | 2288/3377 [2:49:02<1:38:57,  5.45s/it]Max Retries reached\n",
      " 68%|██████▊   | 2289/3377 [2:49:08<1:38:07,  5.41s/it]Max Retries reached\n",
      " 68%|██████▊   | 2290/3377 [2:49:14<1:40:48,  5.56s/it]Max Retries reached\n",
      " 68%|██████▊   | 2291/3377 [2:49:19<1:39:22,  5.49s/it]Max Retries reached\n",
      " 68%|██████▊   | 2292/3377 [2:49:24<1:38:19,  5.44s/it]Max Retries reached\n",
      " 68%|██████▊   | 2293/3377 [2:49:29<1:37:33,  5.40s/it]Max Retries reached\n",
      " 68%|██████▊   | 2294/3377 [2:49:35<1:38:41,  5.47s/it]Max Retries reached\n",
      " 68%|██████▊   | 2295/3377 [2:49:41<1:41:06,  5.61s/it]Max Retries reached\n",
      " 68%|██████▊   | 2296/3377 [2:49:47<1:41:05,  5.61s/it]Max Retries reached\n",
      " 68%|██████▊   | 2297/3377 [2:49:52<1:39:22,  5.52s/it]Max Retries reached\n",
      " 68%|██████▊   | 2298/3377 [2:49:57<1:38:08,  5.46s/it]Max Retries reached\n",
      " 68%|██████▊   | 2299/3377 [2:50:03<1:37:11,  5.41s/it]Max Retries reached\n",
      " 68%|██████▊   | 2300/3377 [2:50:08<1:36:34,  5.38s/it]Max Retries reached\n",
      " 68%|██████▊   | 2301/3377 [2:50:13<1:36:05,  5.36s/it]Max Retries reached\n",
      " 68%|██████▊   | 2302/3377 [2:50:19<1:35:45,  5.34s/it]Max Retries reached\n",
      " 68%|██████▊   | 2303/3377 [2:50:24<1:37:05,  5.42s/it]Max Retries reached\n",
      " 68%|██████▊   | 2304/3377 [2:50:29<1:36:24,  5.39s/it]Max Retries reached\n",
      " 68%|██████▊   | 2305/3377 [2:50:35<1:35:53,  5.37s/it]Max Retries reached\n",
      " 68%|██████▊   | 2306/3377 [2:50:40<1:35:31,  5.35s/it]Max Retries reached\n",
      " 68%|██████▊   | 2307/3377 [2:50:45<1:35:10,  5.34s/it]Max Retries reached\n",
      " 68%|██████▊   | 2308/3377 [2:50:51<1:34:56,  5.33s/it]Max Retries reached\n",
      " 68%|██████▊   | 2309/3377 [2:50:56<1:34:42,  5.32s/it]Max Retries reached\n",
      " 68%|██████▊   | 2310/3377 [2:51:02<1:36:10,  5.41s/it]Max Retries reached\n",
      " 68%|██████▊   | 2311/3377 [2:51:07<1:35:32,  5.38s/it]Max Retries reached\n",
      " 68%|██████▊   | 2312/3377 [2:51:13<1:36:42,  5.45s/it]Max Retries reached\n",
      " 68%|██████▊   | 2313/3377 [2:51:18<1:35:54,  5.41s/it]Max Retries reached\n",
      " 69%|██████▊   | 2314/3377 [2:51:24<1:38:30,  5.56s/it]Max Retries reached\n",
      " 69%|██████▊   | 2315/3377 [2:51:29<1:38:40,  5.58s/it]Max Retries reached\n",
      " 69%|██████▊   | 2316/3377 [2:51:35<1:37:10,  5.50s/it]Max Retries reached\n",
      " 69%|██████▊   | 2317/3377 [2:51:40<1:36:04,  5.44s/it]Max Retries reached\n",
      " 69%|██████▊   | 2318/3377 [2:51:45<1:35:17,  5.40s/it]Max Retries reached\n",
      " 69%|██████▊   | 2319/3377 [2:51:51<1:34:43,  5.37s/it]Max Retries reached\n",
      " 69%|██████▊   | 2320/3377 [2:51:56<1:34:18,  5.35s/it]Max Retries reached\n",
      " 69%|██████▊   | 2321/3377 [2:52:02<1:35:35,  5.43s/it]Max Retries reached\n",
      " 69%|██████▉   | 2322/3377 [2:52:07<1:34:53,  5.40s/it]Max Retries reached\n",
      " 69%|██████▉   | 2323/3377 [2:52:12<1:35:53,  5.46s/it]Max Retries reached\n",
      " 69%|██████▉   | 2324/3377 [2:52:18<1:34:58,  5.41s/it]Max Retries reached\n",
      " 69%|██████▉   | 2325/3377 [2:52:23<1:35:55,  5.47s/it]Max Retries reached\n",
      " 69%|██████▉   | 2326/3377 [2:52:29<1:34:52,  5.42s/it]Max Retries reached\n",
      " 69%|██████▉   | 2327/3377 [2:52:34<1:34:12,  5.38s/it]Max Retries reached\n",
      " 69%|██████▉   | 2328/3377 [2:52:39<1:33:43,  5.36s/it]Max Retries reached\n",
      " 69%|██████▉   | 2329/3377 [2:52:45<1:33:22,  5.35s/it]Max Retries reached\n",
      " 69%|██████▉   | 2330/3377 [2:52:50<1:33:02,  5.33s/it]Max Retries reached\n",
      " 69%|██████▉   | 2331/3377 [2:52:55<1:34:26,  5.42s/it]Max Retries reached\n",
      " 69%|██████▉   | 2332/3377 [2:53:01<1:33:46,  5.38s/it]Max Retries reached\n",
      " 69%|██████▉   | 2333/3377 [2:53:06<1:33:15,  5.36s/it]Max Retries reached\n",
      " 69%|██████▉   | 2334/3377 [2:53:11<1:32:54,  5.34s/it]Max Retries reached\n",
      " 69%|██████▉   | 2335/3377 [2:53:17<1:34:06,  5.42s/it]Max Retries reached\n",
      " 69%|██████▉   | 2336/3377 [2:53:22<1:33:25,  5.38s/it]Max Retries reached\n",
      " 69%|██████▉   | 2337/3377 [2:53:28<1:34:32,  5.45s/it]Max Retries reached\n",
      " 69%|██████▉   | 2338/3377 [2:53:33<1:33:42,  5.41s/it]Max Retries reached\n",
      " 69%|██████▉   | 2339/3377 [2:53:39<1:34:40,  5.47s/it]Max Retries reached\n",
      " 69%|██████▉   | 2340/3377 [2:53:44<1:33:45,  5.42s/it]Max Retries reached\n",
      " 69%|██████▉   | 2341/3377 [2:53:49<1:33:05,  5.39s/it]Max Retries reached\n",
      " 69%|██████▉   | 2342/3377 [2:53:55<1:32:37,  5.37s/it]Max Retries reached\n",
      " 69%|██████▉   | 2343/3377 [2:54:00<1:32:13,  5.35s/it]Max Retries reached\n",
      " 69%|██████▉   | 2344/3377 [2:54:06<1:33:29,  5.43s/it]Max Retries reached\n",
      " 69%|██████▉   | 2345/3377 [2:54:11<1:32:47,  5.39s/it]Max Retries reached\n",
      " 69%|██████▉   | 2346/3377 [2:54:16<1:32:13,  5.37s/it]Max Retries reached\n",
      " 69%|██████▉   | 2347/3377 [2:54:22<1:31:47,  5.35s/it]Max Retries reached\n",
      " 70%|██████▉   | 2348/3377 [2:54:27<1:31:30,  5.34s/it]Max Retries reached\n",
      " 70%|██████▉   | 2349/3377 [2:54:32<1:31:15,  5.33s/it]Max Retries reached\n",
      " 70%|██████▉   | 2350/3377 [2:54:38<1:31:05,  5.32s/it]Max Retries reached\n",
      " 70%|██████▉   | 2351/3377 [2:54:43<1:30:52,  5.31s/it]Max Retries reached\n",
      " 70%|██████▉   | 2352/3377 [2:54:48<1:30:44,  5.31s/it]Max Retries reached\n",
      " 70%|██████▉   | 2353/3377 [2:54:53<1:30:37,  5.31s/it]Max Retries reached\n",
      " 70%|██████▉   | 2354/3377 [2:54:59<1:32:09,  5.40s/it]Max Retries reached\n",
      " 70%|██████▉   | 2355/3377 [2:55:04<1:31:32,  5.37s/it]Max Retries reached\n",
      " 70%|██████▉   | 2356/3377 [2:55:10<1:31:08,  5.36s/it]Max Retries reached\n",
      " 70%|██████▉   | 2357/3377 [2:55:15<1:32:24,  5.44s/it]Max Retries reached\n",
      " 70%|██████▉   | 2358/3377 [2:55:21<1:31:40,  5.40s/it]Max Retries reached\n",
      " 70%|██████▉   | 2359/3377 [2:55:26<1:32:43,  5.47s/it]Max Retries reached\n",
      " 70%|██████▉   | 2360/3377 [2:55:32<1:31:52,  5.42s/it]Max Retries reached\n",
      " 70%|██████▉   | 2361/3377 [2:55:37<1:32:47,  5.48s/it]Max Retries reached\n",
      " 70%|██████▉   | 2362/3377 [2:55:42<1:31:50,  5.43s/it]Max Retries reached\n",
      " 70%|██████▉   | 2363/3377 [2:55:48<1:31:07,  5.39s/it]Max Retries reached\n",
      " 70%|███████   | 2364/3377 [2:55:53<1:32:12,  5.46s/it]Max Retries reached\n",
      " 70%|███████   | 2365/3377 [2:55:59<1:34:31,  5.60s/it]Max Retries reached\n",
      " 70%|███████   | 2366/3377 [2:56:05<1:34:27,  5.61s/it]Max Retries reached\n",
      " 70%|███████   | 2367/3377 [2:56:10<1:32:53,  5.52s/it]Max Retries reached\n",
      " 70%|███████   | 2368/3377 [2:56:16<1:31:45,  5.46s/it]Max Retries reached\n",
      " 70%|███████   | 2369/3377 [2:56:21<1:30:55,  5.41s/it]Max Retries reached\n",
      " 70%|███████   | 2370/3377 [2:56:26<1:30:20,  5.38s/it]Max Retries reached\n",
      " 70%|███████   | 2371/3377 [2:56:32<1:31:38,  5.47s/it]Max Retries reached\n",
      " 70%|███████   | 2372/3377 [2:56:37<1:32:20,  5.51s/it]Max Retries reached\n",
      " 70%|███████   | 2373/3377 [2:56:43<1:31:14,  5.45s/it]Max Retries reached\n",
      " 70%|███████   | 2374/3377 [2:56:48<1:30:26,  5.41s/it]Max Retries reached\n",
      " 70%|███████   | 2375/3377 [2:56:53<1:29:49,  5.38s/it]Max Retries reached\n",
      " 70%|███████   | 2376/3377 [2:56:59<1:30:54,  5.45s/it]Max Retries reached\n",
      " 70%|███████   | 2377/3377 [2:57:04<1:30:05,  5.41s/it]Max Retries reached\n",
      " 70%|███████   | 2378/3377 [2:57:10<1:29:29,  5.37s/it]Max Retries reached\n",
      " 70%|███████   | 2379/3377 [2:57:15<1:29:05,  5.36s/it]Max Retries reached\n",
      " 70%|███████   | 2380/3377 [2:57:21<1:30:17,  5.43s/it]Max Retries reached\n",
      " 71%|███████   | 2381/3377 [2:57:26<1:31:06,  5.49s/it]Max Retries reached\n",
      " 71%|███████   | 2382/3377 [2:57:32<1:31:36,  5.52s/it]Max Retries reached\n",
      " 71%|███████   | 2383/3377 [2:57:37<1:30:24,  5.46s/it]Max Retries reached\n",
      " 71%|███████   | 2384/3377 [2:57:43<1:31:04,  5.50s/it]Max Retries reached\n",
      " 71%|███████   | 2385/3377 [2:57:48<1:30:00,  5.44s/it]Max Retries reached\n",
      " 71%|███████   | 2386/3377 [2:57:53<1:29:15,  5.40s/it]Max Retries reached\n",
      " 71%|███████   | 2387/3377 [2:57:59<1:30:13,  5.47s/it]Max Retries reached\n",
      " 71%|███████   | 2388/3377 [2:58:05<1:32:21,  5.60s/it]Max Retries reached\n",
      " 71%|███████   | 2389/3377 [2:58:10<1:30:47,  5.51s/it]Max Retries reached\n",
      " 71%|███████   | 2390/3377 [2:58:15<1:29:42,  5.45s/it]Max Retries reached\n",
      " 71%|███████   | 2391/3377 [2:58:21<1:30:24,  5.50s/it]Max Retries reached\n",
      " 71%|███████   | 2392/3377 [2:58:26<1:29:21,  5.44s/it]Max Retries reached\n",
      " 71%|███████   | 2393/3377 [2:58:32<1:28:36,  5.40s/it]Max Retries reached\n",
      " 71%|███████   | 2394/3377 [2:58:37<1:29:34,  5.47s/it]Max Retries reached\n",
      " 71%|███████   | 2395/3377 [2:58:43<1:30:12,  5.51s/it]Max Retries reached\n",
      " 71%|███████   | 2396/3377 [2:58:48<1:29:05,  5.45s/it]Max Retries reached\n",
      " 71%|███████   | 2397/3377 [2:58:54<1:28:17,  5.41s/it]Max Retries reached\n",
      " 71%|███████   | 2398/3377 [2:58:59<1:27:44,  5.38s/it]Max Retries reached\n",
      " 71%|███████   | 2399/3377 [2:59:05<1:30:19,  5.54s/it]Max Retries reached\n",
      " 71%|███████   | 2400/3377 [2:59:10<1:29:07,  5.47s/it]Max Retries reached\n",
      " 71%|███████   | 2401/3377 [2:59:16<1:29:44,  5.52s/it]Max Retries reached\n",
      " 71%|███████   | 2402/3377 [2:59:21<1:30:10,  5.55s/it]Max Retries reached\n",
      " 71%|███████   | 2403/3377 [2:59:27<1:28:45,  5.47s/it]Max Retries reached\n",
      " 71%|███████   | 2404/3377 [2:59:32<1:27:53,  5.42s/it]Max Retries reached\n",
      " 71%|███████   | 2405/3377 [2:59:37<1:27:13,  5.38s/it]Max Retries reached\n",
      " 71%|███████   | 2406/3377 [2:59:43<1:26:42,  5.36s/it]Max Retries reached\n",
      " 71%|███████▏  | 2407/3377 [2:59:48<1:26:22,  5.34s/it]Max Retries reached\n",
      " 71%|███████▏  | 2408/3377 [2:59:53<1:26:06,  5.33s/it]Max Retries reached\n",
      " 71%|███████▏  | 2409/3377 [2:59:59<1:12:19,  4.48s/it]\n"
     ]
    },
    {
     "ename": "KeyboardInterrupt",
     "evalue": "",
     "output_type": "error",
     "traceback": [
      "\u001b[1;31m---------------------------------------------------------------------------\u001b[0m",
      "\u001b[1;31mKeyboardInterrupt\u001b[0m                         Traceback (most recent call last)",
      "Cell \u001b[1;32mIn[12], line 5\u001b[0m\n\u001b[0;32m      3\u001b[0m \u001b[38;5;28;01mfor\u001b[39;00m i \u001b[38;5;129;01min\u001b[39;00m tqdm(\u001b[38;5;28mrange\u001b[39m(\u001b[38;5;241m0\u001b[39m,\u001b[38;5;28mlen\u001b[39m(t_uri),\u001b[38;5;241m100\u001b[39m)):\n\u001b[0;32m      4\u001b[0m     \u001b[38;5;28;01mtry\u001b[39;00m:\n\u001b[1;32m----> 5\u001b[0m      track_feature \u001b[38;5;241m=\u001b[39m \u001b[43msp\u001b[49m\u001b[38;5;241;43m.\u001b[39;49m\u001b[43maudio_features\u001b[49m\u001b[43m(\u001b[49m\u001b[43mt_uri\u001b[49m\u001b[43m[\u001b[49m\u001b[43mi\u001b[49m\u001b[43m:\u001b[49m\u001b[43mi\u001b[49m\u001b[38;5;241;43m+\u001b[39;49m\u001b[38;5;241;43m100\u001b[39;49m\u001b[43m]\u001b[49m\u001b[43m)\u001b[49m\n\u001b[0;32m      6\u001b[0m      track_df \u001b[38;5;241m=\u001b[39m pd\u001b[38;5;241m.\u001b[39mDataFrame(track_feature)\n\u001b[0;32m      7\u001b[0m      \u001b[38;5;28;01mif\u001b[39;00m(i\u001b[38;5;241m==\u001b[39m\u001b[38;5;241m0\u001b[39m):\n",
      "File \u001b[1;32mc:\\Users\\mayan\\Desktop\\DS\\honors_mp\\Spotify-Recommendation-System\\.venv\\Lib\\site-packages\\spotipy\\client.py:1683\u001b[0m, in \u001b[0;36mSpotify.audio_features\u001b[1;34m(self, tracks)\u001b[0m\n\u001b[0;32m   1681\u001b[0m \u001b[38;5;28;01melse\u001b[39;00m:\n\u001b[0;32m   1682\u001b[0m     tlist \u001b[38;5;241m=\u001b[39m [\u001b[38;5;28mself\u001b[39m\u001b[38;5;241m.\u001b[39m_get_id(\u001b[38;5;124m\"\u001b[39m\u001b[38;5;124mtrack\u001b[39m\u001b[38;5;124m\"\u001b[39m, t) \u001b[38;5;28;01mfor\u001b[39;00m t \u001b[38;5;129;01min\u001b[39;00m tracks]\n\u001b[1;32m-> 1683\u001b[0m     results \u001b[38;5;241m=\u001b[39m \u001b[38;5;28;43mself\u001b[39;49m\u001b[38;5;241;43m.\u001b[39;49m\u001b[43m_get\u001b[49m\u001b[43m(\u001b[49m\u001b[38;5;124;43m\"\u001b[39;49m\u001b[38;5;124;43maudio-features/?ids=\u001b[39;49m\u001b[38;5;124;43m\"\u001b[39;49m\u001b[43m \u001b[49m\u001b[38;5;241;43m+\u001b[39;49m\u001b[43m \u001b[49m\u001b[38;5;124;43m\"\u001b[39;49m\u001b[38;5;124;43m,\u001b[39;49m\u001b[38;5;124;43m\"\u001b[39;49m\u001b[38;5;241;43m.\u001b[39;49m\u001b[43mjoin\u001b[49m\u001b[43m(\u001b[49m\u001b[43mtlist\u001b[49m\u001b[43m)\u001b[49m\u001b[43m)\u001b[49m\n\u001b[0;32m   1684\u001b[0m \u001b[38;5;66;03m# the response has changed, look for the new style first, and if\u001b[39;00m\n\u001b[0;32m   1685\u001b[0m \u001b[38;5;66;03m# its not there, fallback on the old style\u001b[39;00m\n\u001b[0;32m   1686\u001b[0m \u001b[38;5;28;01mif\u001b[39;00m \u001b[38;5;124m\"\u001b[39m\u001b[38;5;124maudio_features\u001b[39m\u001b[38;5;124m\"\u001b[39m \u001b[38;5;129;01min\u001b[39;00m results:\n",
      "File \u001b[1;32mc:\\Users\\mayan\\Desktop\\DS\\honors_mp\\Spotify-Recommendation-System\\.venv\\Lib\\site-packages\\spotipy\\client.py:297\u001b[0m, in \u001b[0;36mSpotify._get\u001b[1;34m(self, url, args, payload, **kwargs)\u001b[0m\n\u001b[0;32m    294\u001b[0m \u001b[38;5;28;01mif\u001b[39;00m args:\n\u001b[0;32m    295\u001b[0m     kwargs\u001b[38;5;241m.\u001b[39mupdate(args)\n\u001b[1;32m--> 297\u001b[0m \u001b[38;5;28;01mreturn\u001b[39;00m \u001b[38;5;28;43mself\u001b[39;49m\u001b[38;5;241;43m.\u001b[39;49m\u001b[43m_internal_call\u001b[49m\u001b[43m(\u001b[49m\u001b[38;5;124;43m\"\u001b[39;49m\u001b[38;5;124;43mGET\u001b[39;49m\u001b[38;5;124;43m\"\u001b[39;49m\u001b[43m,\u001b[49m\u001b[43m \u001b[49m\u001b[43murl\u001b[49m\u001b[43m,\u001b[49m\u001b[43m \u001b[49m\u001b[43mpayload\u001b[49m\u001b[43m,\u001b[49m\u001b[43m \u001b[49m\u001b[43mkwargs\u001b[49m\u001b[43m)\u001b[49m\n",
      "File \u001b[1;32mc:\\Users\\mayan\\Desktop\\DS\\honors_mp\\Spotify-Recommendation-System\\.venv\\Lib\\site-packages\\spotipy\\client.py:240\u001b[0m, in \u001b[0;36mSpotify._internal_call\u001b[1;34m(self, method, url, payload, params)\u001b[0m\n\u001b[0;32m    236\u001b[0m logger\u001b[38;5;241m.\u001b[39mdebug(\u001b[38;5;124m'\u001b[39m\u001b[38;5;124mSending \u001b[39m\u001b[38;5;132;01m%s\u001b[39;00m\u001b[38;5;124m to \u001b[39m\u001b[38;5;132;01m%s\u001b[39;00m\u001b[38;5;124m with Params: \u001b[39m\u001b[38;5;132;01m%s\u001b[39;00m\u001b[38;5;124m Headers: \u001b[39m\u001b[38;5;132;01m%s\u001b[39;00m\u001b[38;5;124m and Body: \u001b[39m\u001b[38;5;132;01m%r\u001b[39;00m\u001b[38;5;124m \u001b[39m\u001b[38;5;124m'\u001b[39m,\n\u001b[0;32m    237\u001b[0m              method, url, args\u001b[38;5;241m.\u001b[39mget(\u001b[38;5;124m\"\u001b[39m\u001b[38;5;124mparams\u001b[39m\u001b[38;5;124m\"\u001b[39m), headers, args\u001b[38;5;241m.\u001b[39mget(\u001b[38;5;124m'\u001b[39m\u001b[38;5;124mdata\u001b[39m\u001b[38;5;124m'\u001b[39m))\n\u001b[0;32m    239\u001b[0m \u001b[38;5;28;01mtry\u001b[39;00m:\n\u001b[1;32m--> 240\u001b[0m     response \u001b[38;5;241m=\u001b[39m \u001b[38;5;28;43mself\u001b[39;49m\u001b[38;5;241;43m.\u001b[39;49m\u001b[43m_session\u001b[49m\u001b[38;5;241;43m.\u001b[39;49m\u001b[43mrequest\u001b[49m\u001b[43m(\u001b[49m\n\u001b[0;32m    241\u001b[0m \u001b[43m        \u001b[49m\u001b[43mmethod\u001b[49m\u001b[43m,\u001b[49m\u001b[43m \u001b[49m\u001b[43murl\u001b[49m\u001b[43m,\u001b[49m\u001b[43m \u001b[49m\u001b[43mheaders\u001b[49m\u001b[38;5;241;43m=\u001b[39;49m\u001b[43mheaders\u001b[49m\u001b[43m,\u001b[49m\u001b[43m \u001b[49m\u001b[43mproxies\u001b[49m\u001b[38;5;241;43m=\u001b[39;49m\u001b[38;5;28;43mself\u001b[39;49m\u001b[38;5;241;43m.\u001b[39;49m\u001b[43mproxies\u001b[49m\u001b[43m,\u001b[49m\n\u001b[0;32m    242\u001b[0m \u001b[43m        \u001b[49m\u001b[43mtimeout\u001b[49m\u001b[38;5;241;43m=\u001b[39;49m\u001b[38;5;28;43mself\u001b[39;49m\u001b[38;5;241;43m.\u001b[39;49m\u001b[43mrequests_timeout\u001b[49m\u001b[43m,\u001b[49m\u001b[43m \u001b[49m\u001b[38;5;241;43m*\u001b[39;49m\u001b[38;5;241;43m*\u001b[39;49m\u001b[43margs\u001b[49m\n\u001b[0;32m    243\u001b[0m \u001b[43m    \u001b[49m\u001b[43m)\u001b[49m\n\u001b[0;32m    245\u001b[0m     response\u001b[38;5;241m.\u001b[39mraise_for_status()\n\u001b[0;32m    246\u001b[0m     results \u001b[38;5;241m=\u001b[39m response\u001b[38;5;241m.\u001b[39mjson()\n",
      "File \u001b[1;32mc:\\Users\\mayan\\Desktop\\DS\\honors_mp\\Spotify-Recommendation-System\\.venv\\Lib\\site-packages\\requests\\sessions.py:589\u001b[0m, in \u001b[0;36mSession.request\u001b[1;34m(self, method, url, params, data, headers, cookies, files, auth, timeout, allow_redirects, proxies, hooks, stream, verify, cert, json)\u001b[0m\n\u001b[0;32m    584\u001b[0m send_kwargs \u001b[38;5;241m=\u001b[39m {\n\u001b[0;32m    585\u001b[0m     \u001b[38;5;124m\"\u001b[39m\u001b[38;5;124mtimeout\u001b[39m\u001b[38;5;124m\"\u001b[39m: timeout,\n\u001b[0;32m    586\u001b[0m     \u001b[38;5;124m\"\u001b[39m\u001b[38;5;124mallow_redirects\u001b[39m\u001b[38;5;124m\"\u001b[39m: allow_redirects,\n\u001b[0;32m    587\u001b[0m }\n\u001b[0;32m    588\u001b[0m send_kwargs\u001b[38;5;241m.\u001b[39mupdate(settings)\n\u001b[1;32m--> 589\u001b[0m resp \u001b[38;5;241m=\u001b[39m \u001b[38;5;28;43mself\u001b[39;49m\u001b[38;5;241;43m.\u001b[39;49m\u001b[43msend\u001b[49m\u001b[43m(\u001b[49m\u001b[43mprep\u001b[49m\u001b[43m,\u001b[49m\u001b[43m \u001b[49m\u001b[38;5;241;43m*\u001b[39;49m\u001b[38;5;241;43m*\u001b[39;49m\u001b[43msend_kwargs\u001b[49m\u001b[43m)\u001b[49m\n\u001b[0;32m    591\u001b[0m \u001b[38;5;28;01mreturn\u001b[39;00m resp\n",
      "File \u001b[1;32mc:\\Users\\mayan\\Desktop\\DS\\honors_mp\\Spotify-Recommendation-System\\.venv\\Lib\\site-packages\\requests\\sessions.py:703\u001b[0m, in \u001b[0;36mSession.send\u001b[1;34m(self, request, **kwargs)\u001b[0m\n\u001b[0;32m    700\u001b[0m start \u001b[38;5;241m=\u001b[39m preferred_clock()\n\u001b[0;32m    702\u001b[0m \u001b[38;5;66;03m# Send the request\u001b[39;00m\n\u001b[1;32m--> 703\u001b[0m r \u001b[38;5;241m=\u001b[39m \u001b[43madapter\u001b[49m\u001b[38;5;241;43m.\u001b[39;49m\u001b[43msend\u001b[49m\u001b[43m(\u001b[49m\u001b[43mrequest\u001b[49m\u001b[43m,\u001b[49m\u001b[43m \u001b[49m\u001b[38;5;241;43m*\u001b[39;49m\u001b[38;5;241;43m*\u001b[39;49m\u001b[43mkwargs\u001b[49m\u001b[43m)\u001b[49m\n\u001b[0;32m    705\u001b[0m \u001b[38;5;66;03m# Total elapsed time of the request (approximately)\u001b[39;00m\n\u001b[0;32m    706\u001b[0m elapsed \u001b[38;5;241m=\u001b[39m preferred_clock() \u001b[38;5;241m-\u001b[39m start\n",
      "File \u001b[1;32mc:\\Users\\mayan\\Desktop\\DS\\honors_mp\\Spotify-Recommendation-System\\.venv\\Lib\\site-packages\\requests\\adapters.py:486\u001b[0m, in \u001b[0;36mHTTPAdapter.send\u001b[1;34m(self, request, stream, timeout, verify, cert, proxies)\u001b[0m\n\u001b[0;32m    483\u001b[0m     timeout \u001b[38;5;241m=\u001b[39m TimeoutSauce(connect\u001b[38;5;241m=\u001b[39mtimeout, read\u001b[38;5;241m=\u001b[39mtimeout)\n\u001b[0;32m    485\u001b[0m \u001b[38;5;28;01mtry\u001b[39;00m:\n\u001b[1;32m--> 486\u001b[0m     resp \u001b[38;5;241m=\u001b[39m \u001b[43mconn\u001b[49m\u001b[38;5;241;43m.\u001b[39;49m\u001b[43murlopen\u001b[49m\u001b[43m(\u001b[49m\n\u001b[0;32m    487\u001b[0m \u001b[43m        \u001b[49m\u001b[43mmethod\u001b[49m\u001b[38;5;241;43m=\u001b[39;49m\u001b[43mrequest\u001b[49m\u001b[38;5;241;43m.\u001b[39;49m\u001b[43mmethod\u001b[49m\u001b[43m,\u001b[49m\n\u001b[0;32m    488\u001b[0m \u001b[43m        \u001b[49m\u001b[43murl\u001b[49m\u001b[38;5;241;43m=\u001b[39;49m\u001b[43murl\u001b[49m\u001b[43m,\u001b[49m\n\u001b[0;32m    489\u001b[0m \u001b[43m        \u001b[49m\u001b[43mbody\u001b[49m\u001b[38;5;241;43m=\u001b[39;49m\u001b[43mrequest\u001b[49m\u001b[38;5;241;43m.\u001b[39;49m\u001b[43mbody\u001b[49m\u001b[43m,\u001b[49m\n\u001b[0;32m    490\u001b[0m \u001b[43m        \u001b[49m\u001b[43mheaders\u001b[49m\u001b[38;5;241;43m=\u001b[39;49m\u001b[43mrequest\u001b[49m\u001b[38;5;241;43m.\u001b[39;49m\u001b[43mheaders\u001b[49m\u001b[43m,\u001b[49m\n\u001b[0;32m    491\u001b[0m \u001b[43m        \u001b[49m\u001b[43mredirect\u001b[49m\u001b[38;5;241;43m=\u001b[39;49m\u001b[38;5;28;43;01mFalse\u001b[39;49;00m\u001b[43m,\u001b[49m\n\u001b[0;32m    492\u001b[0m \u001b[43m        \u001b[49m\u001b[43massert_same_host\u001b[49m\u001b[38;5;241;43m=\u001b[39;49m\u001b[38;5;28;43;01mFalse\u001b[39;49;00m\u001b[43m,\u001b[49m\n\u001b[0;32m    493\u001b[0m \u001b[43m        \u001b[49m\u001b[43mpreload_content\u001b[49m\u001b[38;5;241;43m=\u001b[39;49m\u001b[38;5;28;43;01mFalse\u001b[39;49;00m\u001b[43m,\u001b[49m\n\u001b[0;32m    494\u001b[0m \u001b[43m        \u001b[49m\u001b[43mdecode_content\u001b[49m\u001b[38;5;241;43m=\u001b[39;49m\u001b[38;5;28;43;01mFalse\u001b[39;49;00m\u001b[43m,\u001b[49m\n\u001b[0;32m    495\u001b[0m \u001b[43m        \u001b[49m\u001b[43mretries\u001b[49m\u001b[38;5;241;43m=\u001b[39;49m\u001b[38;5;28;43mself\u001b[39;49m\u001b[38;5;241;43m.\u001b[39;49m\u001b[43mmax_retries\u001b[49m\u001b[43m,\u001b[49m\n\u001b[0;32m    496\u001b[0m \u001b[43m        \u001b[49m\u001b[43mtimeout\u001b[49m\u001b[38;5;241;43m=\u001b[39;49m\u001b[43mtimeout\u001b[49m\u001b[43m,\u001b[49m\n\u001b[0;32m    497\u001b[0m \u001b[43m        \u001b[49m\u001b[43mchunked\u001b[49m\u001b[38;5;241;43m=\u001b[39;49m\u001b[43mchunked\u001b[49m\u001b[43m,\u001b[49m\n\u001b[0;32m    498\u001b[0m \u001b[43m    \u001b[49m\u001b[43m)\u001b[49m\n\u001b[0;32m    500\u001b[0m \u001b[38;5;28;01mexcept\u001b[39;00m (ProtocolError, \u001b[38;5;167;01mOSError\u001b[39;00m) \u001b[38;5;28;01mas\u001b[39;00m err:\n\u001b[0;32m    501\u001b[0m     \u001b[38;5;28;01mraise\u001b[39;00m \u001b[38;5;167;01mConnectionError\u001b[39;00m(err, request\u001b[38;5;241m=\u001b[39mrequest)\n",
      "File \u001b[1;32mc:\\Users\\mayan\\Desktop\\DS\\honors_mp\\Spotify-Recommendation-System\\.venv\\Lib\\site-packages\\urllib3\\connectionpool.py:948\u001b[0m, in \u001b[0;36mHTTPConnectionPool.urlopen\u001b[1;34m(self, method, url, body, headers, retries, redirect, assert_same_host, timeout, pool_timeout, release_conn, chunked, body_pos, preload_content, decode_content, **response_kw)\u001b[0m\n\u001b[0;32m    946\u001b[0m     retries\u001b[38;5;241m.\u001b[39msleep(response)\n\u001b[0;32m    947\u001b[0m     log\u001b[38;5;241m.\u001b[39mdebug(\u001b[38;5;124m\"\u001b[39m\u001b[38;5;124mRetry: \u001b[39m\u001b[38;5;132;01m%s\u001b[39;00m\u001b[38;5;124m\"\u001b[39m, url)\n\u001b[1;32m--> 948\u001b[0m     \u001b[38;5;28;01mreturn\u001b[39;00m \u001b[38;5;28;43mself\u001b[39;49m\u001b[38;5;241;43m.\u001b[39;49m\u001b[43murlopen\u001b[49m\u001b[43m(\u001b[49m\n\u001b[0;32m    949\u001b[0m \u001b[43m        \u001b[49m\u001b[43mmethod\u001b[49m\u001b[43m,\u001b[49m\n\u001b[0;32m    950\u001b[0m \u001b[43m        \u001b[49m\u001b[43murl\u001b[49m\u001b[43m,\u001b[49m\n\u001b[0;32m    951\u001b[0m \u001b[43m        \u001b[49m\u001b[43mbody\u001b[49m\u001b[43m,\u001b[49m\n\u001b[0;32m    952\u001b[0m \u001b[43m        \u001b[49m\u001b[43mheaders\u001b[49m\u001b[43m,\u001b[49m\n\u001b[0;32m    953\u001b[0m \u001b[43m        \u001b[49m\u001b[43mretries\u001b[49m\u001b[38;5;241;43m=\u001b[39;49m\u001b[43mretries\u001b[49m\u001b[43m,\u001b[49m\n\u001b[0;32m    954\u001b[0m \u001b[43m        \u001b[49m\u001b[43mredirect\u001b[49m\u001b[38;5;241;43m=\u001b[39;49m\u001b[43mredirect\u001b[49m\u001b[43m,\u001b[49m\n\u001b[0;32m    955\u001b[0m \u001b[43m        \u001b[49m\u001b[43massert_same_host\u001b[49m\u001b[38;5;241;43m=\u001b[39;49m\u001b[43massert_same_host\u001b[49m\u001b[43m,\u001b[49m\n\u001b[0;32m    956\u001b[0m \u001b[43m        \u001b[49m\u001b[43mtimeout\u001b[49m\u001b[38;5;241;43m=\u001b[39;49m\u001b[43mtimeout\u001b[49m\u001b[43m,\u001b[49m\n\u001b[0;32m    957\u001b[0m \u001b[43m        \u001b[49m\u001b[43mpool_timeout\u001b[49m\u001b[38;5;241;43m=\u001b[39;49m\u001b[43mpool_timeout\u001b[49m\u001b[43m,\u001b[49m\n\u001b[0;32m    958\u001b[0m \u001b[43m        \u001b[49m\u001b[43mrelease_conn\u001b[49m\u001b[38;5;241;43m=\u001b[39;49m\u001b[43mrelease_conn\u001b[49m\u001b[43m,\u001b[49m\n\u001b[0;32m    959\u001b[0m \u001b[43m        \u001b[49m\u001b[43mchunked\u001b[49m\u001b[38;5;241;43m=\u001b[39;49m\u001b[43mchunked\u001b[49m\u001b[43m,\u001b[49m\n\u001b[0;32m    960\u001b[0m \u001b[43m        \u001b[49m\u001b[43mbody_pos\u001b[49m\u001b[38;5;241;43m=\u001b[39;49m\u001b[43mbody_pos\u001b[49m\u001b[43m,\u001b[49m\n\u001b[0;32m    961\u001b[0m \u001b[43m        \u001b[49m\u001b[43mpreload_content\u001b[49m\u001b[38;5;241;43m=\u001b[39;49m\u001b[43mpreload_content\u001b[49m\u001b[43m,\u001b[49m\n\u001b[0;32m    962\u001b[0m \u001b[43m        \u001b[49m\u001b[43mdecode_content\u001b[49m\u001b[38;5;241;43m=\u001b[39;49m\u001b[43mdecode_content\u001b[49m\u001b[43m,\u001b[49m\n\u001b[0;32m    963\u001b[0m \u001b[43m        \u001b[49m\u001b[38;5;241;43m*\u001b[39;49m\u001b[38;5;241;43m*\u001b[39;49m\u001b[43mresponse_kw\u001b[49m\u001b[43m,\u001b[49m\n\u001b[0;32m    964\u001b[0m \u001b[43m    \u001b[49m\u001b[43m)\u001b[49m\n\u001b[0;32m    966\u001b[0m \u001b[38;5;28;01mreturn\u001b[39;00m response\n",
      "File \u001b[1;32mc:\\Users\\mayan\\Desktop\\DS\\honors_mp\\Spotify-Recommendation-System\\.venv\\Lib\\site-packages\\urllib3\\connectionpool.py:946\u001b[0m, in \u001b[0;36mHTTPConnectionPool.urlopen\u001b[1;34m(self, method, url, body, headers, retries, redirect, assert_same_host, timeout, pool_timeout, release_conn, chunked, body_pos, preload_content, decode_content, **response_kw)\u001b[0m\n\u001b[0;32m    943\u001b[0m     \u001b[38;5;28;01mreturn\u001b[39;00m response\n\u001b[0;32m    945\u001b[0m response\u001b[38;5;241m.\u001b[39mdrain_conn()\n\u001b[1;32m--> 946\u001b[0m \u001b[43mretries\u001b[49m\u001b[38;5;241;43m.\u001b[39;49m\u001b[43msleep\u001b[49m\u001b[43m(\u001b[49m\u001b[43mresponse\u001b[49m\u001b[43m)\u001b[49m\n\u001b[0;32m    947\u001b[0m log\u001b[38;5;241m.\u001b[39mdebug(\u001b[38;5;124m\"\u001b[39m\u001b[38;5;124mRetry: \u001b[39m\u001b[38;5;132;01m%s\u001b[39;00m\u001b[38;5;124m\"\u001b[39m, url)\n\u001b[0;32m    948\u001b[0m \u001b[38;5;28;01mreturn\u001b[39;00m \u001b[38;5;28mself\u001b[39m\u001b[38;5;241m.\u001b[39murlopen(\n\u001b[0;32m    949\u001b[0m     method,\n\u001b[0;32m    950\u001b[0m     url,\n\u001b[1;32m   (...)\u001b[0m\n\u001b[0;32m    963\u001b[0m     \u001b[38;5;241m*\u001b[39m\u001b[38;5;241m*\u001b[39mresponse_kw,\n\u001b[0;32m    964\u001b[0m )\n",
      "File \u001b[1;32mc:\\Users\\mayan\\Desktop\\DS\\honors_mp\\Spotify-Recommendation-System\\.venv\\Lib\\site-packages\\urllib3\\util\\retry.py:359\u001b[0m, in \u001b[0;36mRetry.sleep\u001b[1;34m(self, response)\u001b[0m\n\u001b[0;32m    356\u001b[0m     \u001b[38;5;28;01mif\u001b[39;00m slept:\n\u001b[0;32m    357\u001b[0m         \u001b[38;5;28;01mreturn\u001b[39;00m\n\u001b[1;32m--> 359\u001b[0m \u001b[38;5;28;43mself\u001b[39;49m\u001b[38;5;241;43m.\u001b[39;49m\u001b[43m_sleep_backoff\u001b[49m\u001b[43m(\u001b[49m\u001b[43m)\u001b[49m\n",
      "File \u001b[1;32mc:\\Users\\mayan\\Desktop\\DS\\honors_mp\\Spotify-Recommendation-System\\.venv\\Lib\\site-packages\\urllib3\\util\\retry.py:343\u001b[0m, in \u001b[0;36mRetry._sleep_backoff\u001b[1;34m(self)\u001b[0m\n\u001b[0;32m    341\u001b[0m \u001b[38;5;28;01mif\u001b[39;00m backoff \u001b[38;5;241m<\u001b[39m\u001b[38;5;241m=\u001b[39m \u001b[38;5;241m0\u001b[39m:\n\u001b[0;32m    342\u001b[0m     \u001b[38;5;28;01mreturn\u001b[39;00m\n\u001b[1;32m--> 343\u001b[0m time\u001b[38;5;241m.\u001b[39msleep(backoff)\n",
      "\u001b[1;31mKeyboardInterrupt\u001b[0m: "
     ]
    }
   ],
   "source": [
    "# f = open('data/audio_features.csv','a')\n",
    "e=0\n",
    "for i in tqdm(range(0,len(t_uri),100)):\n",
    "    try:\n",
    "     track_feature = sp.audio_features(t_uri[i:i+100])\n",
    "     track_df = pd.DataFrame(track_feature)\n",
    "     if(i==0):\n",
    "        track_df.to_csv(\"data/audio_features.csv\",mode='a',header=True,index=False)\n",
    "     else:\n",
    "        track_df.to_csv(\"data/audio_features.csv\",mode='a',header=False,index=False)\n",
    "     time.sleep(4)\n",
    "    #  f.write(csv_data)\n",
    "    except Exception as error:\n",
    "        e+=1\n",
    "        r = open(\"data/log/audio_features_log.txt\", \"a\")\n",
    "        r.write(datetime.datetime.now().strftime(\"%d.%b %Y %H:%M:%S\")+\": \"+str(error)+'\\n')\n",
    "        r.close()\n",
    "        time.sleep(3)\n",
    "        continue\n",
    "r = open(\"data/log/audio_features_log.txt\", \"a\")\n",
    "r.write(datetime.datetime.now().strftime(\"%d.%b %Y %H:%M:%S\")+\" _________________________ \"+\"Total Number Of Errors : \"+str(e)+\" _________________________ \"+'\\n')\n",
    "r.close()\n",
    "# f.close()"
   ]
  },
  {
   "cell_type": "code",
   "execution_count": null,
   "metadata": {},
   "outputs": [],
   "source": [
    "f = open('data/audio_features.csv','a')\n",
    "e=0\n",
    "for i in tqdm(range(0,len(t_uri),100)):\n",
    "    if(i<200200):\n",
    "       continue\n",
    "    else:\n",
    "        try:\n",
    "            track_feature = sp.audio_features(remaining_t_uri[i:i+100])\n",
    "            track_df = pd.DataFrame(track_feature)\n",
    "            csv_data = track_df.to_csv(header=False,index=False)\n",
    "            f.write(csv_data)\n",
    "        except Exception as error:\n",
    "            e+=1\n",
    "            r = open(\"data/log/audio_features_log.txt\", \"a\")\n",
    "            r.write(datetime.datetime.now().strftime(\"%d.%b %Y %H:%M:%S\")+\": \"+str(error)+'\\n')\n",
    "            r.close()\n",
    "            time.sleep(3)\n",
    "            continue\n",
    "r = open(\"data/log/audio_features_log.txt\", \"a\")\n",
    "r.write(datetime.datetime.now().strftime(\"%d.%b %Y %H:%M:%S\")+\" _________________________ \"+\"Total Number Of Errors : \"+str(e)+\" _________________________ \"+'\\n')\n",
    "r.close()\n",
    "f.close()"
   ]
  },
  {
   "cell_type": "markdown",
   "metadata": {},
   "source": [
    "## Track Features"
   ]
  },
  {
   "cell_type": "code",
   "execution_count": 23,
   "metadata": {},
   "outputs": [],
   "source": [
    "audio_feat_df_till_now=pd.read_csv(\"data/audio_features.csv\")\n",
    "track_feat_df_till_now=pd.read_csv(\"data/track_features.csv\")\n",
    "# track_features = sp.tracks(t_uri[50:100])"
   ]
  },
  {
   "cell_type": "code",
   "execution_count": 32,
   "metadata": {},
   "outputs": [],
   "source": [
    "trackdf_t_uri_till_now=np.array(track_feat_df_till_now.track_uri)"
   ]
  },
  {
   "cell_type": "code",
   "execution_count": 36,
   "metadata": {},
   "outputs": [
    {
     "data": {
      "text/plain": [
       "array(['0UaMYEvWZi0ZqiDOoHU3YI', '6I9VzXrHxO9rA9A5euc8Ak',\n",
       "       '0WqIKmW4BTrj3eJFmnCKMv', ..., '2PTvM4E7vKBfS6BQ5rOhjp',\n",
       "       '7ygYTTGQA91BibWe5n24Ru', '2SMWGgAT5C6IghiEiguY7I'], dtype=object)"
      ]
     },
     "execution_count": 36,
     "metadata": {},
     "output_type": "execute_result"
    }
   ],
   "source": [
    "audiodf_t_uri_till_now=np.array(audio_feat_df_till_now.uri.apply(lambda x:x.split(\":\")[2]))\n",
    "audiodf_t_uri_till_now"
   ]
  },
  {
   "cell_type": "code",
   "execution_count": 59,
   "metadata": {},
   "outputs": [],
   "source": [
    "# intersect = audiodf_t_uri_till_now[np.in1d(audiodf_t_uri_till_now, trackdf_t_uri_till_now)]\n",
    "# mask1 = np.searchsorted(audiodf_t_uri_till_now, intersect)\n",
    "# remaining_t_uri=np.delete(audiodf_t_uri_till_now,mask1)\n",
    "remaining_t_uri = np.setdiff1d(audiodf_t_uri_till_now, trackdf_t_uri_till_now)"
   ]
  },
  {
   "cell_type": "code",
   "execution_count": 62,
   "metadata": {},
   "outputs": [
    {
     "name": "stderr",
     "output_type": "stream",
     "text": [
      "  0%|          | 0/3100 [00:00<?, ?it/s]"
     ]
    },
    {
     "name": "stderr",
     "output_type": "stream",
     "text": [
      "100%|██████████| 3100/3100 [4:39:20<00:00,  5.41s/it]  \n"
     ]
    }
   ],
   "source": [
    "# f = open('data/track_features.csv','a')\n",
    "e=0\n",
    "track_pop_df = pd.DataFrame(columns=['track_uri', 'release_date', 'pop'])\n",
    "for i in tqdm(range(0,len(remaining_t_uri),50)):\n",
    "    try:\n",
    "        track_features = sp.tracks(remaining_t_uri[i:i+50])\n",
    "        for x in range(50):\n",
    "            track_pop_df_new_row = pd.DataFrame({\n",
    "                'track_uri': remaining_t_uri[i+x],\n",
    "                'release_date': track_features['tracks'][x]['album']['release_date'],\n",
    "                'pop': track_features['tracks'][x][\"popularity\"]\n",
    "            },index=[0])\n",
    "            track_pop_df = pd.concat([track_pop_df, track_pop_df_new_row], ignore_index=True)\n",
    "            # track_pop=pd.DataFrame([t_uri[i+x]])\n",
    "            # track_pop['release_date']=track_features['tracks'][x]['album']['release_date']\n",
    "            # track_pop['pop'] = track_features['tracks'][x][\"popularity\"]\n",
    "        if(i==0):\n",
    "            track_pop_df.to_csv(\"data/track_features.csv\",mode='a',header=True,index=False)\n",
    "        else:\n",
    "            track_pop_df.to_csv(\"data/track_features.csv\",mode='a',header=False,index=False) \n",
    "            # csv_data = track_pop.to_csv(header=False,index=False)\n",
    "            # f.write(csv_data)\n",
    "        track_pop_df = pd.DataFrame(columns=['track_uri', 'release_date', 'pop'])\n",
    "        time.sleep(5)\n",
    "    except Exception as error:\n",
    "        e+=1\n",
    "        r = open(\"data/log/track_features_log.txt\", \"a\")\n",
    "        r.write(datetime.datetime.now().strftime(\"%d.%b %Y %H:%M:%S\")+\": \"+str(error)+'\\n')\n",
    "        r.close()\n",
    "        time.sleep(3)\n",
    "        continue\n",
    "r = open(\"data/log/track_features_log.txt\", \"a\")\n",
    "r.write(datetime.datetime.now().strftime(\"%d.%b %Y %H:%M:%S\")+\" _________________________ \"+\"Total Number Of Errors : \"+str(e)+\" _________________________ \"+'\\n')\n",
    "r.close()\n",
    "# f.close()"
   ]
  },
  {
   "cell_type": "code",
   "execution_count": 13,
   "metadata": {},
   "outputs": [
    {
     "data": {
      "text/html": [
       "<div>\n",
       "<style scoped>\n",
       "    .dataframe tbody tr th:only-of-type {\n",
       "        vertical-align: middle;\n",
       "    }\n",
       "\n",
       "    .dataframe tbody tr th {\n",
       "        vertical-align: top;\n",
       "    }\n",
       "\n",
       "    .dataframe thead th {\n",
       "        text-align: right;\n",
       "    }\n",
       "</style>\n",
       "<table border=\"1\" class=\"dataframe\">\n",
       "  <thead>\n",
       "    <tr style=\"text-align: right;\">\n",
       "      <th></th>\n",
       "      <th>track_uri</th>\n",
       "      <th>release_date</th>\n",
       "      <th>pop</th>\n",
       "    </tr>\n",
       "  </thead>\n",
       "  <tbody>\n",
       "    <tr>\n",
       "      <th>0</th>\n",
       "      <td>0TQDrX7JWalZLt2X6E7ZVj</td>\n",
       "      <td>2013-01-01</td>\n",
       "      <td>0</td>\n",
       "    </tr>\n",
       "  </tbody>\n",
       "</table>\n",
       "</div>"
      ],
      "text/plain": [
       "                track_uri release_date  pop\n",
       "0  0TQDrX7JWalZLt2X6E7ZVj   2013-01-01    0"
      ]
     },
     "execution_count": 13,
     "metadata": {},
     "output_type": "execute_result"
    }
   ],
   "source": [
    "track_pop_df_new_row"
   ]
  },
  {
   "cell_type": "markdown",
   "metadata": {},
   "source": [
    "## Artist features"
   ]
  },
  {
   "cell_type": "code",
   "execution_count": 12,
   "metadata": {},
   "outputs": [],
   "source": [
    "artist_features = sp.artists(a_uri[0:50])"
   ]
  },
  {
   "cell_type": "code",
   "execution_count": 11,
   "metadata": {},
   "outputs": [
    {
     "name": "stderr",
     "output_type": "stream",
     "text": [
      "100%|██████████| 1254/1254 [1:11:39<00:00,  3.43s/it]\n"
     ]
    }
   ],
   "source": [
    "e=0\n",
    "for i in tqdm(range(0,len(a_uri),50)):\n",
    "    try:\n",
    "        artist_features = sp.artists(a_uri[i:i+50])\n",
    "        for x in range(50):\n",
    "            artist_df=pd.DataFrame([a_uri[i+x]])\n",
    "            artist_pop = artist_features['artists'][x][\"popularity\"]\n",
    "            artist_genres = artist_features['artists'][x][\"genres\"]\n",
    "            artist_df[\"artist_pop\"] = artist_pop\n",
    "            if artist_genres: \n",
    "                artist_df[\"genres\"] = \" \".join([re.sub(' ','_',i) for i in artist_genres])\n",
    "            else:\n",
    "              artist_df[\"genres\"] = \"unknown\"\n",
    "            if(i==0 and x==0):\n",
    "                artist_df.to_csv(\"data/artist_features.csv\",mode='a',header=True,index=False)\n",
    "            else:\n",
    "                artist_df.to_csv(\"data/artist_features.csv\",mode='a',header=False,index=False) \n",
    "            # csv_data = artist_df.to_csv(header=False,index=False)\n",
    "            # f.write(csv_data)\n",
    "        time.sleep(3)    \n",
    "    except Exception as error:\n",
    "        e+=1\n",
    "        r = open(\"data/log/artist_features_log.txt\", \"a\")\n",
    "        r.write(datetime.datetime.now().strftime(\"%d.%b %Y %H:%M:%S\")+\": \"+str(error)+'\\n')\n",
    "        r.close()\n",
    "        time.sleep(3)\n",
    "        continue\n",
    "r = open(\"data/log/artist_features_log.txt\", \"a\")\n",
    "r.write(datetime.datetime.now().strftime(\"%d.%b %Y %H:%M:%S\")+\" _________________________ \"+\"Total Number Of Errors : \"+str(e)+\" _________________________ \"+'\\n')\n",
    "r.close()\n",
    "# f.close()"
   ]
  },
  {
   "cell_type": "code",
   "execution_count": 10,
   "metadata": {},
   "outputs": [
    {
     "data": {
      "text/html": [
       "<div>\n",
       "<style scoped>\n",
       "    .dataframe tbody tr th:only-of-type {\n",
       "        vertical-align: middle;\n",
       "    }\n",
       "\n",
       "    .dataframe tbody tr th {\n",
       "        vertical-align: top;\n",
       "    }\n",
       "\n",
       "    .dataframe thead th {\n",
       "        text-align: right;\n",
       "    }\n",
       "</style>\n",
       "<table border=\"1\" class=\"dataframe\">\n",
       "  <thead>\n",
       "    <tr style=\"text-align: right;\">\n",
       "      <th></th>\n",
       "      <th>0</th>\n",
       "      <th>artist_pop</th>\n",
       "      <th>genres</th>\n",
       "    </tr>\n",
       "  </thead>\n",
       "  <tbody>\n",
       "    <tr>\n",
       "      <th>0</th>\n",
       "      <td>4OrizGCKhOrW6iDDJHN9xd</td>\n",
       "      <td>48</td>\n",
       "      <td>brooklyn_indie dream_pop dreamo indie_rock ind...</td>\n",
       "    </tr>\n",
       "  </tbody>\n",
       "</table>\n",
       "</div>"
      ],
      "text/plain": [
       "                        0  artist_pop  \\\n",
       "0  4OrizGCKhOrW6iDDJHN9xd          48   \n",
       "\n",
       "                                              genres  \n",
       "0  brooklyn_indie dream_pop dreamo indie_rock ind...  "
      ]
     },
     "execution_count": 10,
     "metadata": {},
     "output_type": "execute_result"
    }
   ],
   "source": [
    "artist_df"
   ]
  }
 ],
 "metadata": {
  "kernelspec": {
   "display_name": "Python 3.9.13 ('base')",
   "language": "python",
   "name": "python3"
  },
  "language_info": {
   "codemirror_mode": {
    "name": "ipython",
    "version": 3
   },
   "file_extension": ".py",
   "mimetype": "text/x-python",
   "name": "python",
   "nbconvert_exporter": "python",
   "pygments_lexer": "ipython3",
   "version": "3.11.3"
  },
  "orig_nbformat": 4,
  "vscode": {
   "interpreter": {
    "hash": "e246d2215c418239c9316a1ebf2d8abb44dc50b2e5b0e29defd87143398aa387"
   }
  }
 },
 "nbformat": 4,
 "nbformat_minor": 2
}
